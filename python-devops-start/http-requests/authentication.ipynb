{
 "cells": [
  {
   "cell_type": "markdown",
   "id": "75498774-9207-44cf-a5ee-e76ddfdedd3a",
   "metadata": {},
   "source": [
    "# Handling Authentication\n",
    "\n",
    "- APIs often require authentication to control access, rate limits, and auditing.\n",
    "- Without authentication, requests to protected endpoints will fail with codes like 401 (Unauthorized) or 403 (Forbidden).\n",
    "- This section demonstrates a simple GET to a protected endpoint, illustrating why auth is needed.\n",
    "\n",
    "## Why Authentication?\n",
    "\n",
    "- Authentication tells the API who you are, enabling personalized data and higher rate limits.\n",
    "- It prevents unauthorized access to private resources and supports auditing of actions.\n",
    "- Authenticated requests often succeed where anonymous requests would be blocked or limited."
   ]
  },
  {
   "cell_type": "code",
   "execution_count": 2,
   "id": "27a10c2f-f21d-48af-af9f-367a43544acf",
   "metadata": {},
   "outputs": [],
   "source": [
    "GITHUB_ENDPOINT = \"https://api.github.com\"\n",
    "HTTPBIN_ENDPOINT = \"https://httpbin.org\""
   ]
  },
  {
   "cell_type": "code",
   "execution_count": null,
   "id": "b50229d7-ce3f-4667-81b7-25ac8aefd080",
   "metadata": {},
   "outputs": [],
   "source": []
  },
  {
   "cell_type": "markdown",
   "id": "1142cbf2",
   "metadata": {},
   "source": [
    "## Basic Authentication\n",
    "\n",
    "- Basic Auth sends a username and password with each request, encoded in the `Authorization` header.\n",
    "- `requests` accepts an `auth=(username, password)` tuple and handles encoding automatically.\n",
    "- Servers return `401 Unauthorized` when credentials are missing or incorrect."
   ]
  },
  {
   "cell_type": "code",
   "execution_count": null,
   "id": "16e439e9",
   "metadata": {},
   "outputs": [],
   "source": []
  },
  {
   "cell_type": "markdown",
   "id": "d43a4003",
   "metadata": {},
   "source": [
    "## Token-Based Authentication\n",
    "\n",
    "- Modern APIs use API keys or bearer tokens passed via the `Authorization` header.\n",
    "- For GitHub PATs, use `Authorization: token <PAT>` or `Authorization: Bearer <PAT>`; for OAuth2, `Authorization: Bearer <token>`.\n",
    "- Always load tokens from environment variables to avoid hardcoding secrets."
   ]
  },
  {
   "cell_type": "code",
   "execution_count": null,
   "id": "5cfddd0c",
   "metadata": {},
   "outputs": [],
   "source": []
  },
  {
   "cell_type": "markdown",
   "id": "ead2d714",
   "metadata": {},
   "source": [
    "## Common Pitfalls & How to Avoid Them\n",
    "\n",
    "- Using the wrong header format (e.g., `Bearer` vs `token`) causes 401/403 errors. Follow API docs.\n",
    "- Hardcoding secrets risks accidental exposure; always use environment variables or secret managers."
   ]
  },
  {
   "cell_type": "code",
   "execution_count": null,
   "id": "577476df",
   "metadata": {},
   "outputs": [],
   "source": []
  }
 ],
 "metadata": {
  "kernelspec": {
   "display_name": "Python 3 (ipykernel)",
   "language": "python",
   "name": "python3"
  },
  "language_info": {
   "codemirror_mode": {
    "name": "ipython",
    "version": 3
   },
   "file_extension": ".py",
   "mimetype": "text/x-python",
   "name": "python",
   "nbconvert_exporter": "python",
   "pygments_lexer": "ipython3",
   "version": "3.12.9"
  }
 },
 "nbformat": 4,
 "nbformat_minor": 5
}
