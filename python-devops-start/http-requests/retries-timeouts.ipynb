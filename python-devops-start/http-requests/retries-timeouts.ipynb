{
 "cells": [
  {
   "cell_type": "markdown",
   "id": "75498774-9207-44cf-a5ee-e76ddfdedd3a",
   "metadata": {},
   "source": [
    "# Implementing Retries and Timeouts\n",
    "\n",
    "- External services can be slow or unreliable, causing scripts to hang or fail unexpectedly.\n",
    "- Timeouts and retries help ensure your automation scripts remain responsive and resilient.\n",
    "\n",
    "## Timeouts\n",
    "\n",
    "- By default, `requests` may wait indefinitely for a response, which is risky in automation.\n",
    "- Use the `timeout` parameter with a single value for both connect and read, or a tuple `(connect, read)` for fine-grained control.\n",
    "- A `ConnectTimeout` is raised if the connection can’t be established in time; a `ReadTimeout` is raised if data stops arriving within the read timeout."
   ]
  },
  {
   "cell_type": "code",
   "execution_count": 20,
   "id": "1b9a9a61-7095-424c-9284-729b42bc9cf0",
   "metadata": {},
   "outputs": [],
   "source": [
    "GITHUB_ENDPOINT = \"https://api.github.com\"\n",
    "HTTPBIN_ENDPOINT = \"https://httpbin.org\""
   ]
  },
  {
   "cell_type": "code",
   "execution_count": null,
   "id": "b50229d7-ce3f-4667-81b7-25ac8aefd080",
   "metadata": {},
   "outputs": [],
   "source": []
  },
  {
   "cell_type": "markdown",
   "id": "1142cbf2",
   "metadata": {},
   "source": [
    "## Retries\n",
    "\n",
    "- Transient issues like network blips or server overloads may cause requests to fail temporarily.\n",
    "- Implement a simple retry loop that catches errors, retries on server-side (5xx) errors or network exceptions, and breaks on success or client errors.\n",
    "- Use a fixed delay between retries for simplicity, or an exponential backoff for a more robust approach. \n",
    "- Avoid retrying non-idempotent operations."
   ]
  },
  {
   "cell_type": "code",
   "execution_count": null,
   "id": "16e439e9",
   "metadata": {},
   "outputs": [],
   "source": []
  },
  {
   "cell_type": "markdown",
   "id": "d43a4003",
   "metadata": {},
   "source": [
    "## Exponential Backoff with Jitter\n",
    "\n",
    "- Fixed delays can overwhelm a recovering server if many clients retry simultaneously.\n",
    "- Exponential backoff increases the wait time after each failure (e.g., 1s, 2s, 4s...).\n",
    "- Adding jitter (a small random offset) prevents synchronized retry spikes."
   ]
  },
  {
   "cell_type": "code",
   "execution_count": null,
   "id": "5cfddd0c",
   "metadata": {},
   "outputs": [],
   "source": []
  },
  {
   "cell_type": "markdown",
   "id": "ead2d714",
   "metadata": {},
   "source": [
    "## Common Pitfalls & How to Avoid Them\n",
    "\n",
    "- Forgetting to set timeouts can cause scripts to hang indefinitely; always use `timeout`.\n",
    "- Retrying client errors (4xx) usually won’t help; only retry transient server errors (5xx) or network issues.\n",
    "- Retrying non-idempotent operations (e.g., POST) can cause duplicate actions; limit retries to safe methods.\n",
    "- Fixed retry delays can lead to synchronized retry spikes; use exponential backoff with jitter for production scenarios."
   ]
  },
  {
   "cell_type": "code",
   "execution_count": null,
   "id": "577476df",
   "metadata": {},
   "outputs": [],
   "source": []
  }
 ],
 "metadata": {
  "kernelspec": {
   "display_name": "Python 3 (ipykernel)",
   "language": "python",
   "name": "python3"
  },
  "language_info": {
   "codemirror_mode": {
    "name": "ipython",
    "version": 3
   },
   "file_extension": ".py",
   "mimetype": "text/x-python",
   "name": "python",
   "nbconvert_exporter": "python",
   "pygments_lexer": "ipython3",
   "version": "3.12.9"
  }
 },
 "nbformat": 4,
 "nbformat_minor": 5
}
