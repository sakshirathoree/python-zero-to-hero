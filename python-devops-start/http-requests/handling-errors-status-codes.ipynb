{
 "cells": [
  {
   "cell_type": "markdown",
   "id": "75498774-9207-44cf-a5ee-e76ddfdedd3a",
   "metadata": {},
   "source": [
    "# Handling Errors and Status Codes\n",
    "\n",
    "- HTTP status codes communicate the outcome of an API request, and handling them correctly is key to robust automation.\n",
    "- A simple `200 OK` means success, while codes like `404 Not Found` or `500 Internal Server Error` indicate different failure modes.\n",
    "- In this lecture, we’ll learn how to check status codes, use `response.ok`, raise errors automatically, and inspect error details for troubleshooting.\n",
    "\n",
    "## Understanding HTTP Status Codes\n",
    "\n",
    "- Status codes are grouped by their first digit: 1xx (informational), 2xx (success), 3xx (redirection), 4xx (client error), 5xx (server error).\n",
    "- Examples include `200 OK`, `201 Created`, `301 Moved Permanently`, `404 Not Found`, and `500 Internal Server Error`.\n",
    "- Knowing these categories helps you decide how to handle each response in your scripts.\n",
    "\n",
    "## Checking `response.status_code`\n",
    "\n",
    "- After a `requests` call, the integer `response.status_code` tells you the exact HTTP code returned.\n",
    "- You can compare it directly (e.g., `if resp.status_code == 404:`) to implement custom logic based on the code.\n",
    "- This explicit check is useful when you need fine-grained control over specific status codes."
   ]
  },
  {
   "cell_type": "code",
   "execution_count": null,
   "id": "720c3103-3517-4dff-9f84-83522b14c4f8",
   "metadata": {},
   "outputs": [],
   "source": [
    "GITHUB_ENDPOINT = \"https://api.github.com\"\n",
    "HTTPBIN_ENDPOINT = \"https://httpbin.org\""
   ]
  },
  {
   "cell_type": "code",
   "execution_count": null,
   "id": "6da1ba08-a588-4f4b-9c07-e444466f810d",
   "metadata": {},
   "outputs": [],
   "source": []
  },
  {
   "cell_type": "markdown",
   "id": "150d585e",
   "metadata": {},
   "source": [
    "## Using `response.ok`\n",
    "\n",
    "- The boolean `response.ok` is `True` for any status code below 400 (1xx, 2xx, 3xx) and `False` for 4xx/5xx errors.\n",
    "- This provides a quick success/failure check without examining the numeric code directly.\n",
    "- It’s a handy shorthand when you only need to know if the request broadly succeeded."
   ]
  },
  {
   "cell_type": "code",
   "execution_count": null,
   "id": "b50229d7-ce3f-4667-81b7-25ac8aefd080",
   "metadata": {},
   "outputs": [],
   "source": []
  },
  {
   "cell_type": "markdown",
   "id": "1142cbf2",
   "metadata": {},
   "source": [
    "## Automatic Error Raising with `raise_for_status()`\n",
    "\n",
    "- Calling `response.raise_for_status()` will do nothing on 1xx, 2xx and 3xx codes but raise an `HTTPError` on 4xx/5xx.\n",
    "- This follows the EAFP (“Easier to Ask Forgiveness than Permission”) style: try the request, and catch errors if they occur.\n",
    "- The caught exception carries the original `response` in its `response` attribute, letting you inspect headers and body."
   ]
  },
  {
   "cell_type": "code",
   "execution_count": null,
   "id": "16e439e9",
   "metadata": {},
   "outputs": [],
   "source": []
  },
  {
   "cell_type": "markdown",
   "id": "ead2d714",
   "metadata": {},
   "source": [
    "## Common Pitfalls & How to Avoid Them\n",
    "\n",
    "- **Not checking errors:** Treating any response as success can mask failures. Always use `ok` or `raise_for_status()`.\n",
    "- **Catching too broadly:** A generic `except Exception:` hides HTTP errors. Catch `HTTPError` specifically.\n",
    "- **Ignoring error bodies:** APIs often return JSON error messages; inspect `response.text` or `response.json()`."
   ]
  },
  {
   "cell_type": "markdown",
   "id": "d7de0be1",
   "metadata": {},
   "source": []
  }
 ],
 "metadata": {
  "kernelspec": {
   "display_name": "Python 3 (ipykernel)",
   "language": "python",
   "name": "python3"
  },
  "language_info": {
   "codemirror_mode": {
    "name": "ipython",
    "version": 3
   },
   "file_extension": ".py",
   "mimetype": "text/x-python",
   "name": "python",
   "nbconvert_exporter": "python",
   "pygments_lexer": "ipython3",
   "version": "3.12.9"
  }
 },
 "nbformat": 4,
 "nbformat_minor": 5
}
