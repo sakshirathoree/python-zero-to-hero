{
 "cells": [
  {
   "cell_type": "markdown",
   "id": "75498774-9207-44cf-a5ee-e76ddfdedd3a",
   "metadata": {},
   "source": [
    "# Making HTTP Requests\n",
    "\n",
    "- The `requests` library simplifies HTTP interactions by abstracting raw HTTP details, making it ideal for DevOps automation tasks.\n",
    "- It allows you to query web services, trigger CI/CD builds, manage cloud resources, and integrate with APIs like GitHub in a straightforward way.\n",
    "- In this notebook, we'll demonstrate installing `requests`, performing GET and POST requests, inspecting response data, and customizing requests with parameters and headers.\n",
    "- The `requests` library is a third-party package and must be installed in your active virtual environment.\n",
    "- Use `pip install requests==2.32.2` to add it to your project (pinning the version here so that we all work with the same version, but in other projects you can omit the version to install the latest), and consider pinning its version in `requirements.txt`."
   ]
  },
  {
   "cell_type": "code",
   "execution_count": 1,
   "id": "10c80e62-7082-430a-a2d3-cedea4dcfad6",
   "metadata": {},
   "outputs": [],
   "source": [
    "GITHUB_ENDPOINT = \"https://api.github.com\"\n",
    "HTTPBIN_ENDPOINT = \"https://httpbin.org\""
   ]
  },
  {
   "cell_type": "markdown",
   "id": "891ec24c-d015-4ba4-a832-d0ea155c9745",
   "metadata": {},
   "source": [
    "## Making GET Requests with `requests.get()`\n",
    "\n",
    "- The GET method retrieves data from a specified URL; it’s the most common HTTP request type.\n",
    "- Key parameters include `url`, optional `params` for query strings, `headers` for custom HTTP headers, and `timeout` to avoid hanging requests.\n",
    "- The returned `Response` object provides `.status_code`, `.headers`, `.text`, `.content`, and `.json()`, plus `.raise_for_status()` to handle HTTP errors."
   ]
  },
  {
   "cell_type": "code",
   "execution_count": null,
   "id": "6da1ba08-a588-4f4b-9c07-e444466f810d",
   "metadata": {},
   "outputs": [],
   "source": []
  },
  {
   "cell_type": "markdown",
   "id": "150d585e",
   "metadata": {},
   "source": [
    "## Passing URL Parameters with `params`\n",
    "\n",
    "- Query parameters are passed as a dictionary to the `params` argument, and `requests` handles URL-encoding automatically.\n",
    "- This makes it easy to filter, sort, or paginate API results without manually constructing the query string.\n",
    "- You can inspect the final URL via `response.url` to confirm your parameters were applied correctly."
   ]
  },
  {
   "cell_type": "code",
   "execution_count": null,
   "id": "b50229d7-ce3f-4667-81b7-25ac8aefd080",
   "metadata": {},
   "outputs": [],
   "source": []
  },
  {
   "cell_type": "markdown",
   "id": "1142cbf2",
   "metadata": {},
   "source": [
    "## Making POST Requests with `requests.post()`\n",
    "\n",
    "- Use `requests.post()` to send data to a server, choosing between `data=` for form-encoded bodies or `json=` for JSON payloads.\n",
    "- Providing a dictionary to `json=` automatically serializes it and sets `Content-Type: application/json`.\n",
    "- The response can be inspected similarly to GET responses, using `.status_code`, `.json()`, and error handling."
   ]
  },
  {
   "cell_type": "code",
   "execution_count": null,
   "id": "5cfddd0c",
   "metadata": {},
   "outputs": [],
   "source": []
  },
  {
   "cell_type": "markdown",
   "id": "ead2d714",
   "metadata": {},
   "source": [
    "## Common Pitfalls & How to Avoid Them\n",
    "\n",
    "- **Not setting timeouts** can cause scripts to hang indefinitely; always include a `timeout` value.\n",
    "- **Ignoring HTTP errors** means you might assume success when a request failed; use `response.raise_for_status()`.\n",
    "- **Using `data=` instead of `json=`** sends form-encoded data, which may be rejected by modern APIs expecting JSON.\n",
    "- **Hardcoding secrets** in code is insecure; use environment variables (e.g., via `python-dotenv`) and pass them in headers."
   ]
  },
  {
   "cell_type": "markdown",
   "id": "d7de0be1",
   "metadata": {},
   "source": []
  }
 ],
 "metadata": {
  "kernelspec": {
   "display_name": "Python 3 (ipykernel)",
   "language": "python",
   "name": "python3"
  },
  "language_info": {
   "codemirror_mode": {
    "name": "ipython",
    "version": 3
   },
   "file_extension": ".py",
   "mimetype": "text/x-python",
   "name": "python",
   "nbconvert_exporter": "python",
   "pygments_lexer": "ipython3",
   "version": "3.12.9"
  }
 },
 "nbformat": 4,
 "nbformat_minor": 5
}
