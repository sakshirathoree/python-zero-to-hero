{
 "cells": [
  {
   "cell_type": "markdown",
   "id": "f41952bc",
   "metadata": {},
   "source": [
    "# Signaling Errors: The `raise` Statement\n",
    "- Functions sometimes encounter states they cannot handle and must signal failure clearly.  \n",
    "- Using `raise` triggers an exception, integrates with `try...except`, and stops execution immediately. \n",
    "- Prefer exceptions over special return values (`None`, `False`) to avoid ambiguous error handling.  \n",
    "- Raising early enforces preconditions and supports the \"fail fast\" principle. "
   ]
  },
  {
   "cell_type": "code",
   "execution_count": null,
   "id": "ba4553af-86e3-46c0-8fab-1998a94d875c",
   "metadata": {},
   "outputs": [],
   "source": []
  },
  {
   "cell_type": "markdown",
   "id": "695b8cf3",
   "metadata": {},
   "source": [
    "## Raising Built-in Exceptions\n",
    "- Built-in exception classes (e.g., `TypeError`, `ValueError`, `FileNotFoundError`) convey standard error semantics.  \n",
    "- Raise `TypeError` when the argument’s type is wrong; raise `ValueError` when its value is out of acceptable range.  \n",
    "- Use exceptions like `OSError`, `ConnectionError`, etc., when the built-in meaning matches your context.  \n",
    "- Always include a clear, informative message describing the failure.  "
   ]
  },
  {
   "cell_type": "code",
   "execution_count": null,
   "id": "ad00b0c2",
   "metadata": {},
   "outputs": [],
   "source": []
  }
 ],
 "metadata": {
  "kernelspec": {
   "display_name": "Python 3 (ipykernel)",
   "language": "python",
   "name": "python3"
  },
  "language_info": {
   "codemirror_mode": {
    "name": "ipython",
    "version": 3
   },
   "file_extension": ".py",
   "mimetype": "text/x-python",
   "name": "python",
   "nbconvert_exporter": "python",
   "pygments_lexer": "ipython3",
   "version": "3.12.9"
  }
 },
 "nbformat": 4,
 "nbformat_minor": 5
}
