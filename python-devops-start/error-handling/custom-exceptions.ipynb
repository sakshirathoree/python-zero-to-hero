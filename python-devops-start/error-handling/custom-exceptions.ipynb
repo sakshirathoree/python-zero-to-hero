{
 "cells": [
  {
   "cell_type": "markdown",
   "id": "788b0eba",
   "metadata": {},
   "source": [
    "# Custom Exceptions: Tailoring Error Signals\n",
    "- Built-in exceptions are great, but often too generic for application-specific failures.  \n",
    "- A custom exception like `ServiceConnectionError` immediately conveys context compared to a plain `Exception`.  \n",
    "- Defining a base exception class groups related errors; subclasses add specificity for targeted handling.  \n",
    "- Catching `except BaseError:` handles all related issues, while `except SpecificError:` addresses one case precisely.\n",
    "\n",
    "## Simple Custom Exceptions (Inheritance)\n",
    "- Create a new exception by subclassing `Exception` or another exception class.  \n",
    "- Using `pass` is enough when no extra logic or attributes are needed.  \n",
    "- Catch the base class (`AutomationError`) to handle any related subclass errors in one block.  \n",
    "- Use subclasses (`FileProcessingError`, `APICallError`) when context-specific handling is required.  "
   ]
  },
  {
   "cell_type": "code",
   "execution_count": null,
   "id": "50567d2e",
   "metadata": {},
   "outputs": [],
   "source": []
  },
  {
   "cell_type": "markdown",
   "id": "16eb434e",
   "metadata": {},
   "source": [
    "## Adding Context with `__init__`\n",
    "- Override `__init__` in your exception class to capture context (e.g., filename, invalid value).  \n",
    "- Store custom attributes on `self` and build a clear message passed to `super().__init__()`.  \n",
    "- Inherit from a built-in exception (`ValueError`) when semantics align, allowing broad catches.  \n",
    "- Attribute access (`e.key_name`) provides extra debugging info in handlers.  "
   ]
  },
  {
   "cell_type": "code",
   "execution_count": null,
   "id": "69be0bbf",
   "metadata": {},
   "outputs": [],
   "source": []
  },
  {
   "cell_type": "markdown",
   "id": "69982d77",
   "metadata": {},
   "source": [
    "## Raising and Catching Enhanced Custom Exceptions\n",
    "- Raise custom exceptions by instantiating them with relevant arguments: `raise MyError(arg1, arg2)`.  \n",
    "- In `except` blocks, catch specific exceptions and access their attributes for tailored recovery or logging.  \n",
    "- Fallback `except BaseError:` catches any related subclass if no more specific handler exists.  "
   ]
  },
  {
   "cell_type": "code",
   "execution_count": null,
   "id": "2d963c5e",
   "metadata": {},
   "outputs": [],
   "source": []
  }
 ],
 "metadata": {
  "kernelspec": {
   "display_name": "Python 3 (ipykernel)",
   "language": "python",
   "name": "python3"
  },
  "language_info": {
   "codemirror_mode": {
    "name": "ipython",
    "version": 3
   },
   "file_extension": ".py",
   "mimetype": "text/x-python",
   "name": "python",
   "nbconvert_exporter": "python",
   "pygments_lexer": "ipython3",
   "version": "3.12.9"
  }
 },
 "nbformat": 4,
 "nbformat_minor": 5
}
