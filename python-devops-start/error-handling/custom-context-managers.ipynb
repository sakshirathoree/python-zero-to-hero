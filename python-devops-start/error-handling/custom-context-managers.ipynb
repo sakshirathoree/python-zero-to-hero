{
 "cells": [
  {
   "cell_type": "markdown",
   "id": "2614fc2e-2fb0-41b7-803f-0b4d5f6e3d4f",
   "metadata": {},
   "source": [
    "## Custom Resource Management: Writing Context Managers\n",
    "- Whenever you need custom setup/teardown logic, you can write your own Context Manager.\n",
    "- A context manager ensures that teardown always runs, even if errors occur in the block.  \n",
    "- Two approaches: implement `__enter__`/`__exit__` in a class or use the simpler generator-based decorator.  "
   ]
  },
  {
   "cell_type": "code",
   "execution_count": null,
   "id": "7ade03fb-8d75-4295-ae76-df372248766a",
   "metadata": {},
   "outputs": [],
   "source": []
  },
  {
   "cell_type": "markdown",
   "id": "45cd1b24-fb0d-417a-aebb-898f7de2f734",
   "metadata": {},
   "source": [
    "## The `@contextlib.contextmanager` Decorator\n",
    "- Provided by the `contextlib` module to turn a generator into a context manager.  \n",
    "- Decorated function needs exactly one `yield`.  \n",
    "- Code before `yield` runs as `__enter__`; code after (or in `finally`) runs as `__exit__`.  \n",
    "- Simplifies many common patterns without writing a full class.\n",
    "\n",
    "###  Generator Structure for `@contextmanager`\n",
    "- Wrap the `yield` in `try...finally` to ensure teardown even on errors.  \n",
    "- The value yielded is bound to `as var` in the `with` statement (if used).  \n",
    "- You can catch exceptions inside the generator if you want to suppress them."
   ]
  },
  {
   "cell_type": "code",
   "execution_count": null,
   "id": "34e23855-05da-4ddc-8e0f-c5244267011e",
   "metadata": {},
   "outputs": [],
   "source": []
  }
 ],
 "metadata": {
  "kernelspec": {
   "display_name": "Python 3 (ipykernel)",
   "language": "python",
   "name": "python3"
  },
  "language_info": {
   "codemirror_mode": {
    "name": "ipython",
    "version": 3
   },
   "file_extension": ".py",
   "mimetype": "text/x-python",
   "name": "python",
   "nbconvert_exporter": "python",
   "pygments_lexer": "ipython3",
   "version": "3.12.9"
  }
 },
 "nbformat": 4,
 "nbformat_minor": 5
}
