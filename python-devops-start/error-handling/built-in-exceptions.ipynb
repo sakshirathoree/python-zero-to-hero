{
 "cells": [
  {
   "cell_type": "markdown",
   "id": "2eeccb23",
   "metadata": {},
   "source": [
    "# Common Built‑in Exceptions\n",
    "- Python ships with a rich hierarchy of exception classes; most automation errors fall into a small, predictable subset.  \n",
    "- All ordinary run‑time exceptions inherit from `Exception`, but subclasses convey *why* something failed (e.g., file missing vs. wrong type).  \n",
    "- Catching overly broad bases like `Exception` hides root causes and can mask bugs—prefer the narrowest class you can handle.  \n",
    "- Understanding the inheritance tree lets you decide when a single `except` can cover many related problems (e.g., `OSError`).  "
   ]
  },
  {
   "cell_type": "code",
   "execution_count": null,
   "id": "a58e40cd-c300-4120-a605-c38b470d744e",
   "metadata": {},
   "outputs": [],
   "source": []
  },
  {
   "cell_type": "markdown",
   "id": "79f172d9",
   "metadata": {},
   "source": [
    "## `OSError` Family: Filesystem & Network Issues\n",
    "- Signals problems interacting with the operating system: files, permissions, sockets, paths.  \n",
    "- Subclasses such as `FileNotFoundError`, `PermissionError`, `IsADirectoryError`, `ConnectionRefusedError`, and `TimeoutError` offer granularity.  \n",
    "- Catch individual subclasses when you can recover differently (create a missing file, prompt for sudo, retry a connection).  \n",
    "- A single `except OSError` still groups all OS‑level failures when the response is the same (e.g., log and abort).  "
   ]
  },
  {
   "cell_type": "code",
   "execution_count": null,
   "id": "74c88e06",
   "metadata": {},
   "outputs": [],
   "source": []
  },
  {
   "cell_type": "markdown",
   "id": "2ad6093f",
   "metadata": {},
   "source": [
    "## `KeyError`: Missing Dictionary Keys\n",
    "- Raised when using `dict[key]` with a key that is absent.  \n",
    "- Frequent in config loading, JSON parsing, or environment variable maps.  \n",
    "- Mitigation patterns: `dict.get(key, default)`, membership tests (`if key in cfg`), or a tailored `except KeyError`.  \n",
    "- Treats missing data distinctly from a wrong value (`ValueError`) or wrong type (`TypeError`).  "
   ]
  },
  {
   "cell_type": "code",
   "execution_count": null,
   "id": "be6e58bf",
   "metadata": {},
   "outputs": [],
   "source": []
  },
  {
   "cell_type": "markdown",
   "id": "caa99972",
   "metadata": {},
   "source": [
    "## `IndexError`: Sequence Index Out of Bounds\n",
    "- Triggered when list/tuple indices fall outside the valid range: negative beyond the left edge or ≥ `len(seq)`.  \n",
    "- Common during iterative processing of dynamic lists or user‑provided indexes.  \n",
    "- Prevent with bounds checks (`if i < len(seq)`), safe iteration (`for item in seq:`), or catch and default.  \n",
    "- Signals \"wrong position\" rather than \"wrong content\".  "
   ]
  },
  {
   "cell_type": "code",
   "execution_count": null,
   "id": "64c6dcd7",
   "metadata": {},
   "outputs": [],
   "source": []
  },
  {
   "cell_type": "markdown",
   "id": "f7950092",
   "metadata": {},
   "source": [
    "## `ValueError` vs. `TypeError`\n",
    "- **ValueError**: argument type is acceptable but content/value is invalid (e.g., `int(\"abc\")`).  \n",
    "- **TypeError**: operation applied to an object of the wrong type altogether (e.g., `len(5)` or `\"a\" + 3`).  \n",
    "- Distinguishing them clarifies whether to validate *content* or convert *types*.  \n",
    "- Catch them separately to craft precise user feedback.  "
   ]
  },
  {
   "cell_type": "code",
   "execution_count": null,
   "id": "a5a0081b",
   "metadata": {},
   "outputs": [],
   "source": []
  },
  {
   "cell_type": "markdown",
   "id": "5aab3bc2",
   "metadata": {},
   "source": [
    "## `AttributeError`: Missing Object Member\n",
    "- Raised when an attribute or method doesn't exist on the object referenced.  \n",
    "- Often results from typos, unexpected `None`, or polymorphic functions returning different types.  \n",
    "- Defensive techniques: `hasattr(obj, \"attr\")`, `if obj is not None:`, or narrow `except AttributeError`.  \n",
    "- Conveys \"object of this type doesn’t support that capability\".  "
   ]
  },
  {
   "cell_type": "code",
   "execution_count": null,
   "id": "0aa95a17",
   "metadata": {},
   "outputs": [],
   "source": []
  },
  {
   "cell_type": "markdown",
   "id": "6c1db2a7",
   "metadata": {},
   "source": [
    "## `ImportError` / `ModuleNotFoundError`\n",
    "- Raised when an `import` statement cannot locate a module/package.  \n",
    "- `ModuleNotFoundError` (Python 3.6+) is the specific subclass; catching `ImportError` also covers it.  \n",
    "- Causes: misspelling, package not installed, wrong virtual environment, or PYTHONPATH issues.  \n",
    "- Typical handling logs instructions and aborts early to avoid cascading failures.  "
   ]
  },
  {
   "cell_type": "code",
   "execution_count": null,
   "id": "5018a9fc",
   "metadata": {},
   "outputs": [],
   "source": []
  }
 ],
 "metadata": {
  "kernelspec": {
   "display_name": "Python 3 (ipykernel)",
   "language": "python",
   "name": "python3"
  },
  "language_info": {
   "codemirror_mode": {
    "name": "ipython",
    "version": 3
   },
   "file_extension": ".py",
   "mimetype": "text/x-python",
   "name": "python",
   "nbconvert_exporter": "python",
   "pygments_lexer": "ipython3",
   "version": "3.12.9"
  }
 },
 "nbformat": 4,
 "nbformat_minor": 5
}
