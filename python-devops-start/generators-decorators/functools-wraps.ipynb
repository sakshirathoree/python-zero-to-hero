{
 "cells": [
  {
   "cell_type": "markdown",
   "id": "1bb9687c-1a6f-4c72-982f-0ce52381b7ae",
   "metadata": {},
   "source": [
    "# `functools.wraps`\n",
    "\n",
    "- A decorator replaces the original function object with its wrapper, so introspection tools see the wrapper’s metadata instead of the original’s.  \n",
    "- Attributes such as `__name__`, `__doc__`, `__module__`, and type‑hint annotations are lost or altered.  \n",
    "- This confuses debuggers, documentation generators, and anyone relying on `help()`, `inspect`, or error traces that reference the function name.\n",
    "- Python’s `functools` module supplies `@wraps(original_func)`; apply it *inside* your decorator to the wrapper.  \n",
    "- `@wraps` copies key metadata from the original function onto the wrapper, so the decorated function still looks like the original externally."
   ]
  },
  {
   "cell_type": "code",
   "execution_count": null,
   "id": "04cdb1cc-3997-4652-8dae-f30de40becdd",
   "metadata": {},
   "outputs": [],
   "source": []
  },
  {
   "cell_type": "code",
   "execution_count": null,
   "id": "40aa3e73-a983-488d-9ef2-7a4cf8437ead",
   "metadata": {},
   "outputs": [],
   "source": []
  }
 ],
 "metadata": {
  "kernelspec": {
   "display_name": "Python 3 (ipykernel)",
   "language": "python",
   "name": "python3"
  },
  "language_info": {
   "codemirror_mode": {
    "name": "ipython",
    "version": 3
   },
   "file_extension": ".py",
   "mimetype": "text/x-python",
   "name": "python",
   "nbconvert_exporter": "python",
   "pygments_lexer": "ipython3",
   "version": "3.12.9"
  }
 },
 "nbformat": 4,
 "nbformat_minor": 5
}
