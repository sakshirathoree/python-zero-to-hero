{
 "cells": [
  {
   "cell_type": "markdown",
   "id": "d25a3145-bff1-4aa5-962f-eedbfbb29700",
   "metadata": {},
   "source": [
    "# Functions: `return` vs `yield`\n",
    "\n",
    "- Regular functions execute immediately, run to completion, and return a single value (or `None`).  \n",
    "- Generator functions return an iterator immediately; their body runs incrementally as values are requested.  \n",
    "- Understanding this distinction is critical for choosing between eager and lazy workflows.\n",
    "\n",
    "## Regular Function (`return`) Recap\n",
    "\n",
    "- Calling a regular function runs its entire body before returning.  \n",
    "- A single `return` exits the function and discards all local state.  \n",
    "- Useful when you need to compute and return a complete result at once.  "
   ]
  },
  {
   "cell_type": "code",
   "execution_count": null,
   "id": "271f0aa0-26fe-48f6-94f8-aee210bec5bc",
   "metadata": {},
   "outputs": [],
   "source": []
  },
  {
   "cell_type": "markdown",
   "id": "c835e1c0-e211-4dd2-9b64-141652f8e397",
   "metadata": {},
   "source": [
    "## Generator Function (`yield`) Recap\n",
    "\n",
    "- Calling a generator function returns a generator object without running its body.  \n",
    "- Each `yield` returns one value and pauses, preserving local variables until the next request.  \n",
    "- Ideal for producing sequences lazily, especially when the full list is large or unbounded."
   ]
  },
  {
   "cell_type": "code",
   "execution_count": null,
   "id": "24fdd423-5b5a-4783-8a48-b2cb89f3d381",
   "metadata": {},
   "outputs": [],
   "source": []
  },
  {
   "cell_type": "markdown",
   "id": "79b5010d-1d69-4260-9a09-f73b4a2e5b61",
   "metadata": {},
   "source": [
    "## Hands-on Exercise: Generator vs Regular Function Comparison\n",
    "\n",
    "**Goal:** Contrast execution flow, timing, and return types of a regular function versus a generator function.\n",
    "\n",
    "**Tasks:**\n",
    "- Implement a regular function that builds and returns a list of data items with simulated work. The function should simulate a small delay when adding each item to the list.\n",
    "- Implement a generator function that yields data items one by one with simulated work. The generator should simulate a small delay when yielding each item.\n",
    "- Measure and print the duration of the function call and of the iteration for each approach.  "
   ]
  },
  {
   "cell_type": "code",
   "execution_count": null,
   "id": "62f26849-af68-4920-b135-7cf8bd340093",
   "metadata": {},
   "outputs": [],
   "source": []
  },
  {
   "cell_type": "code",
   "execution_count": null,
   "id": "12b59ac1-b1ef-4d0d-b47e-a2b94f38ecc5",
   "metadata": {},
   "outputs": [],
   "source": []
  }
 ],
 "metadata": {
  "kernelspec": {
   "display_name": "Python 3 (ipykernel)",
   "language": "python",
   "name": "python3"
  },
  "language_info": {
   "codemirror_mode": {
    "name": "ipython",
    "version": 3
   },
   "file_extension": ".py",
   "mimetype": "text/x-python",
   "name": "python",
   "nbconvert_exporter": "python",
   "pygments_lexer": "ipython3",
   "version": "3.12.9"
  }
 },
 "nbformat": 4,
 "nbformat_minor": 5
}
