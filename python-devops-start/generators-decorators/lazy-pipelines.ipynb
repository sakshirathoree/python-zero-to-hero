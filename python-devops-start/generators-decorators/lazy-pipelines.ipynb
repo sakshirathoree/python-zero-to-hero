{
 "cells": [
  {
   "cell_type": "markdown",
   "id": "75498774-9207-44cf-a5ee-e76ddfdedd3a",
   "metadata": {},
   "source": [
    "# Generators and Lazy Pipelines\n",
    "\n",
    "- You can chain generator functions to form multi-stage data pipelines that process items one at a time.  \n",
    "- No intermediate lists are built, so memory stays low even for very large streams.  \n",
    "- Each generator only holds its own minimal state and passes items downstream on demand.  \n",
    "\n",
    "## Memory Efficiency\n",
    "\n",
    "- Lazy iterables maintain only minimal state (like start, stop, step) regardless of total length.  \n",
    "- Eager collections (lists, tuples) grow in memory usage as you add items.  \n",
    "- Use `sys.getsizeof()` to inspect the in-memory size of objects themselves (not their contents).  "
   ]
  },
  {
   "cell_type": "code",
   "execution_count": null,
   "id": "6da1ba08-a588-4f4b-9c07-e444466f810d",
   "metadata": {},
   "outputs": [],
   "source": []
  }
 ],
 "metadata": {
  "kernelspec": {
   "display_name": "Python 3 (ipykernel)",
   "language": "python",
   "name": "python3"
  },
  "language_info": {
   "codemirror_mode": {
    "name": "ipython",
    "version": 3
   },
   "file_extension": ".py",
   "mimetype": "text/x-python",
   "name": "python",
   "nbconvert_exporter": "python",
   "pygments_lexer": "ipython3",
   "version": "3.12.9"
  }
 },
 "nbformat": 4,
 "nbformat_minor": 5
}
