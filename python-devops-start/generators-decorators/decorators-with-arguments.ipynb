{
 "cells": [
  {
   "cell_type": "markdown",
   "id": "2433795a-6fc7-4a32-8cef-e890fc82b161",
   "metadata": {},
   "source": [
    "## Configurable Decorators: Decorators with Arguments\n",
    "\n",
    "- A basic decorator adds fixed behavior; sometimes you need to *configure* that behaviour (e.g. how many retries, which log level).  \n",
    "- You cannot pass options directly to a plain `@decorator`, because that decorator receives only the target function.  \n",
    "- Solution: call a *factory* that takes options and returns a decorator, then apply it with `@factory(option=value)`.  "
   ]
  },
  {
   "cell_type": "code",
   "execution_count": null,
   "id": "294245b3-c5d8-4d85-8b99-e3b5863e86f9",
   "metadata": {},
   "outputs": [],
   "source": []
  },
  {
   "cell_type": "markdown",
   "id": "5dc16139-088b-44aa-afd8-b7c2c664ab75",
   "metadata": {},
   "source": [
    "## The Decorator Factory Pattern\n",
    "\n",
    "- **Factory function** receives configuration arguments and returns the **actual decorator**.  \n",
    "- The actual **decorator** still takes the target function and builds a **wrapper**.  \n",
    "- The wrapper can access both the factory’s configuration (via a closure) and the call‑time `*args / **kwargs` for the target function.  \n",
    "- Three nested layers keep concerns separated: configuration ➜ decoration ➜ runtime.\n",
    "\n",
    "### Applying Decorators with Arguments\n",
    "\n",
    "- Use `@factory(arg1, arg2…)` above the function definition.  \n",
    "- At *definition* time Python calls the factory, gets back a decorator, and applies that decorator to the function.  \n",
    "- Callers of the function automatically get the behaviour configured by the factory.\n",
    "\n",
    "## Example: Retry Decorator Factory\n",
    "\n",
    "- A practical DevOps scenario: retry a flaky operation a configurable number of times.  \n",
    "- The factory takes `max_attempts`; the wrapper loops until success or until attempts are exhausted, re‑raising the last error.  "
   ]
  },
  {
   "cell_type": "code",
   "execution_count": null,
   "id": "23014bc7-7dfe-45dd-a84d-c2bea1ae4944",
   "metadata": {},
   "outputs": [],
   "source": []
  }
 ],
 "metadata": {
  "kernelspec": {
   "display_name": "Python 3 (ipykernel)",
   "language": "python",
   "name": "python3"
  },
  "language_info": {
   "codemirror_mode": {
    "name": "ipython",
    "version": 3
   },
   "file_extension": ".py",
   "mimetype": "text/x-python",
   "name": "python",
   "nbconvert_exporter": "python",
   "pygments_lexer": "ipython3",
   "version": "3.12.9"
  }
 },
 "nbformat": 4,
 "nbformat_minor": 5
}
