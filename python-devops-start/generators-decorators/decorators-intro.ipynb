{
 "cells": [
  {
   "cell_type": "markdown",
   "id": "4eb9ce3e-364c-4fa3-8c6c-49c3e9792477",
   "metadata": {},
   "source": [
    "## Enhancing Functions: Decorators\n",
    "\n",
    "- A **decorator** is a callable that takes another function, adds behaviour before and/or after it runs, and returns a new callable.  \n",
    "- They solve cross‑cutting concerns such as logging, timing, permission checks, or retries without cluttering core logic.  \n",
    "- The magic `@decorator_name` syntax is shorthand for passing the target function to the decorator and re‑binding the original name to the returned wrapper."
   ]
  },
  {
   "cell_type": "markdown",
   "id": "a829acfe-8464-4702-85e6-9885c1e1b63c",
   "metadata": {},
   "source": [
    "## Decorator Anatomy (Manual View)\n",
    "\n",
    "- **Outer decorator function** accepts the target function and creates a **wrapper** inside it.  \n",
    "- The wrapper usually takes `*args, **kwargs` so it can handle any signature.  \n",
    "- Wrapper executes optional \"before\" code, calls the original, maybe does \"after\" code, and returns the original’s result.  \n",
    "- Returning the wrapper from the decorator completes the transformation.\n",
    "\n",
    "Using decorators:\n",
    "- Manually wrapping illustrates what `@` syntax really does behind the scenes.\n",
    "- This approach is clear but repetitive: `@` eliminates the manual reassignment step.  "
   ]
  },
  {
   "cell_type": "code",
   "execution_count": null,
   "id": "6bdc65c1-1957-45d9-bd0e-f373b9e76611",
   "metadata": {},
   "outputs": [],
   "source": []
  },
  {
   "cell_type": "markdown",
   "id": "d7da6365-88cd-484a-94eb-dbd3b48ab185",
   "metadata": {},
   "source": [
    "## The `@` Syntax\n",
    "\n",
    "- Placing `@decorator_name` directly above `def my_func():` triggers `my_func = decorator_name(my_func)` at *definition* time.  \n",
    "- After that line is executed, `my_func` refers to the wrapper returned by the decorator, so callers automatically get enhanced behaviour.  \n",
    "- This keeps the decoration visible and close to the function definition, improving readability.  "
   ]
  },
  {
   "cell_type": "code",
   "execution_count": null,
   "id": "f5763005-acce-4f00-b741-c85a10b73ea5",
   "metadata": {},
   "outputs": [],
   "source": []
  }
 ],
 "metadata": {
  "kernelspec": {
   "display_name": "Python 3 (ipykernel)",
   "language": "python",
   "name": "python3"
  },
  "language_info": {
   "codemirror_mode": {
    "name": "ipython",
    "version": 3
   },
   "file_extension": ".py",
   "mimetype": "text/x-python",
   "name": "python",
   "nbconvert_exporter": "python",
   "pygments_lexer": "ipython3",
   "version": "3.12.9"
  }
 },
 "nbformat": 4,
 "nbformat_minor": 5
}
