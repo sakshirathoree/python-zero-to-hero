{
 "cells": [
  {
   "cell_type": "markdown",
   "id": "56238708-d927-46f5-8545-d6e11a21d6ac",
   "metadata": {},
   "source": [
    "# Generators\n",
    "\n",
    "- Writing a class-based iterator requires `__iter__()` and `__next__()`, plus manual state management and `StopIteration` handling.  \n",
    "- Generator functions let you express the same logic in plain Python functions, using `yield` to produce values one at a time.  \n",
    "- Any function with `yield` becomes a generator: calling it returns a generator object (an iterator) without running its body immediately.  "
   ]
  },
  {
   "cell_type": "code",
   "execution_count": null,
   "id": "47e78505-6a4b-47c0-8a13-db36b5615ea3",
   "metadata": {},
   "outputs": [],
   "source": []
  },
  {
   "cell_type": "markdown",
   "id": "e7bb393f-9f72-482f-ac6b-c591d1d50fa1",
   "metadata": {},
   "source": [
    "## Generator Functions & the `yield` Keyword\n",
    "\n",
    "- A function becomes a generator by including `yield`; no other boilerplate is needed.  \n",
    "- Calling a generator function returns an object that implements `__iter__()` and `__next__()`.  \n",
    "- The code inside runs only when iteration begins (e.g., in a `for` loop or via `next()`).  "
   ]
  },
  {
   "cell_type": "code",
   "execution_count": null,
   "id": "a773d052-6124-4cf5-a44f-370a06797e19",
   "metadata": {},
   "outputs": [],
   "source": []
  },
  {
   "cell_type": "markdown",
   "id": "7becb90a-3e6d-4117-ae16-f8746c744e44",
   "metadata": {},
   "source": [
    "## How `yield` Works: Pause and Resume\n",
    "\n",
    "- On each `next()` (or loop iteration), execution runs until it hits `yield`, returns the value, then pauses with all local state intact.  \n",
    "- The next `next()` call resumes immediately after the `yield`, preserving variables and the instruction pointer.  \n",
    "- When the function ends (no more `yield`), a `StopIteration` is raised automatically.  "
   ]
  },
  {
   "cell_type": "code",
   "execution_count": null,
   "id": "dca0853e-c7fc-49c0-b210-b3faa09b7c3b",
   "metadata": {},
   "outputs": [],
   "source": []
  },
  {
   "cell_type": "markdown",
   "id": "5df4f188-3b91-44b9-892a-a6230a9ad22f",
   "metadata": {},
   "source": [
    "## Generator State\n",
    "\n",
    "- Generators keep their local variables alive between yields, making explicit state objects unnecessary.  \n",
    "- This persistent state allows infinite or long-running sequences without full data storage.  "
   ]
  },
  {
   "cell_type": "code",
   "execution_count": null,
   "id": "aab0eccc-81ba-4087-af69-7da00f95519c",
   "metadata": {},
   "outputs": [],
   "source": []
  },
  {
   "cell_type": "code",
   "execution_count": null,
   "id": "99fae2be-c457-4d44-aa05-75dd5713e2c5",
   "metadata": {},
   "outputs": [],
   "source": []
  },
  {
   "cell_type": "markdown",
   "id": "ba0fbcd7-a2f2-4fa3-9f1e-f025fe5e9b61",
   "metadata": {},
   "source": [
    "## Exhaustion\n",
    "\n",
    "- Once a generator’s code path completes (falls off the end or hits `return`), further `next()` calls immediately raise `StopIteration`.  \n",
    "- A `for` loop over an exhausted generator does nothing on subsequent passes—you must call the function again for a fresh iterator.  "
   ]
  },
  {
   "cell_type": "code",
   "execution_count": null,
   "id": "12b59ac1-b1ef-4d0d-b47e-a2b94f38ecc5",
   "metadata": {},
   "outputs": [],
   "source": []
  }
 ],
 "metadata": {
  "kernelspec": {
   "display_name": "Python 3 (ipykernel)",
   "language": "python",
   "name": "python3"
  },
  "language_info": {
   "codemirror_mode": {
    "name": "ipython",
    "version": 3
   },
   "file_extension": ".py",
   "mimetype": "text/x-python",
   "name": "python",
   "nbconvert_exporter": "python",
   "pygments_lexer": "ipython3",
   "version": "3.12.9"
  }
 },
 "nbformat": 4,
 "nbformat_minor": 5
}
