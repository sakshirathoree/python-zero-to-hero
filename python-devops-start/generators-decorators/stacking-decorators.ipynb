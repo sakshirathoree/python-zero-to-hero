{
 "cells": [
  {
   "cell_type": "markdown",
   "id": "0e8532b7-2784-4ab3-b053-2fd127368779",
   "metadata": {},
   "source": [
    "# Stacking Decorators: Applying Multiple Layers\n",
    "\n",
    "- Python lets you attach more than one decorator to a single function by writing multiple `@decorator` lines above the `def`.  \n",
    "- Each decorator contributes a distinct slice of behaviour (logging, timing, caching, auth checks) keeping the core function clean.\n",
    "\n",
    "## Application vs. Execution Order\n",
    "\n",
    "- **Decoration happens bottom‑up** when the function is defined:  \n",
    "  1. Decorator nearest the `def` wraps the original first.  \n",
    "  2. Each line above wraps the result of the previous decoration.  \n",
    "- **Execution happens top‑down** (outside‑in) when the decorated function is called: the outermost wrapper runs first, then calls the inner wrapper, and so on until the original function runs.\n",
    "\n",
    "## Order Matters\n",
    "\n",
    "- Swapping decorator order changes both side‑effects and final result if wrappers transform the return value."
   ]
  },
  {
   "cell_type": "code",
   "execution_count": null,
   "id": "0e3d2682-85e2-4b63-ab1a-fced5066aee0",
   "metadata": {},
   "outputs": [],
   "source": []
  }
 ],
 "metadata": {
  "kernelspec": {
   "display_name": "Python 3 (ipykernel)",
   "language": "python",
   "name": "python3"
  },
  "language_info": {
   "codemirror_mode": {
    "name": "ipython",
    "version": 3
   },
   "file_extension": ".py",
   "mimetype": "text/x-python",
   "name": "python",
   "nbconvert_exporter": "python",
   "pygments_lexer": "ipython3",
   "version": "3.12.9"
  }
 },
 "nbformat": 4,
 "nbformat_minor": 5
}
