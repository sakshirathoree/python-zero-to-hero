{
 "cells": [
  {
   "cell_type": "markdown",
   "id": "5875967c-0971-4821-b1b9-f1dc8e4dda1f",
   "metadata": {},
   "source": [
    "## Decorators & Return Values\n",
    "\n",
    "- A decorator’s wrapper replaces the original function, so if it forgets to return the original result the caller receives `None`.  \n",
    "- Many real‑world functions produce critical data (e.g. status strings, dictionaries, numeric results); the decorator must be **transparent** about that value.  \n",
    "- Fixing this means capturing the result of `func(*args, **kwargs)` inside the wrapper and returning it unchanged.  "
   ]
  },
  {
   "cell_type": "code",
   "execution_count": null,
   "id": "432f44f0-1a6a-4285-b666-169ab4453c25",
   "metadata": {},
   "outputs": [],
   "source": []
  },
  {
   "cell_type": "markdown",
   "id": "6af663fc-c44b-45e3-ad7d-a29ab69693a9",
   "metadata": {},
   "source": [
    "## The Wrapper’s Responsibility\n",
    "\n",
    "- The wrapper is the public face of the decorated function; it must faithfully:  \n",
    "  - Call the original with all arguments.  \n",
    "  - Capture its return value.  \n",
    "  - Perform any extra behaviour (log, time, validate).  \n",
    "  - **Return** the captured value so callers remain unaware of the wrapper.  \n",
    "- Failure to return breaks contracts and causes subtle bugs.\n",
    "\n",
    "### Capturing return values\n",
    "- Capturing is a one‑liner: `value = func(*args, **kwargs)`.  \n",
    "- After post‑call logic, `return value` preserves behaviour.  \n",
    "- You can also inspect or transform `value` before returning if the decorator’s purpose demands it.   "
   ]
  },
  {
   "cell_type": "code",
   "execution_count": null,
   "id": "ac78a336-0eba-4d18-9bc4-25f205e59962",
   "metadata": {},
   "outputs": [],
   "source": []
  },
  {
   "cell_type": "markdown",
   "id": "08f76c59-c36f-4c6e-be33-f713025717fa",
   "metadata": {},
   "source": [
    "## Handling Exceptions in Decorators\n",
    "\n",
    "- Wrappers often log exceptions for observability but should **re‑raise** them so callers can still handle or see errors.  \n",
    "- Use `try ... except ... raise` around the call; log inside the `except`, then re‑raise without arguments to preserve traceback.  \n",
    "- A decorator that swallows exceptions changes program semantics unless that is its explicit purpose (e.g. retry).  "
   ]
  },
  {
   "cell_type": "code",
   "execution_count": null,
   "id": "6741543f-870a-4c2f-8049-5f71c2bcfde4",
   "metadata": {},
   "outputs": [],
   "source": []
  }
 ],
 "metadata": {
  "kernelspec": {
   "display_name": "Python 3 (ipykernel)",
   "language": "python",
   "name": "python3"
  },
  "language_info": {
   "codemirror_mode": {
    "name": "ipython",
    "version": 3
   },
   "file_extension": ".py",
   "mimetype": "text/x-python",
   "name": "python",
   "nbconvert_exporter": "python",
   "pygments_lexer": "ipython3",
   "version": "3.12.9"
  }
 },
 "nbformat": 4,
 "nbformat_minor": 5
}
