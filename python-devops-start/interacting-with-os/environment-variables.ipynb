{
 "cells": [
  {
   "cell_type": "markdown",
   "id": "75498774-9207-44cf-a5ee-e76ddfdedd3a",
   "metadata": {},
   "source": [
    "# Working with Environment Variables\n",
    "\n",
    "- Environment variables are dynamic, named values provided by the operating system to running processes, enabling configuration of behavior without code modifications.\n",
    "- They allow applications to adapt across development, staging, and production environments by externalizing configuration data such as API keys, file paths, and feature flags.\n",
    "- Python’s `os` module offers simple interfaces to access and manage these variables, promoting separation of code and configuration."
   ]
  },
  {
   "cell_type": "code",
   "execution_count": null,
   "id": "6da1ba08-a588-4f4b-9c07-e444466f810d",
   "metadata": {},
   "outputs": [],
   "source": []
  },
  {
   "cell_type": "markdown",
   "id": "150d585e",
   "metadata": {},
   "source": [
    "## Accessing Environment Variables with `os.getenv()`\n",
    "\n",
    "- The `os.getenv` function retrieves the value of an environment variable by key, returning None or a provided default if the key is not found.\n",
    "- It prevents `KeyError` exceptions by offering a safe access pattern for optional configuration settings.\n",
    "- **Since environment variables are always strings, any expected non-string types require explicit conversion after retrieval.**"
   ]
  },
  {
   "cell_type": "code",
   "execution_count": null,
   "id": "b50229d7-ce3f-4667-81b7-25ac8aefd080",
   "metadata": {},
   "outputs": [],
   "source": []
  },
  {
   "cell_type": "markdown",
   "id": "1142cbf2",
   "metadata": {},
   "source": [
    "## Accessing Environment Variables with `os.environ`\n",
    "\n",
    "- `os.environ` behaves like a dictionary mapping environment variable names to their string values.\n",
    "- Accessing a missing key via `os.environ['KEY']` raises a `KeyError`, making it suitable for mandatory variables.\n",
    "- One should guard against missing keys by checking membership or catching `KeyError` to handle critical configuration errors."
   ]
  },
  {
   "cell_type": "code",
   "execution_count": null,
   "id": "16e439e9",
   "metadata": {},
   "outputs": [],
   "source": []
  },
  {
   "cell_type": "markdown",
   "id": "e27bd5a5",
   "metadata": {},
   "source": [
    "## Setting Environment Variables Within Python\n",
    "\n",
    "- While environment variables are typically set externally, `os.environ` can be modified at runtime to affect the current process and its children.\n",
    "- Assigning to `os.environ['KEY']` makes the variable available to any subprocesses spawned by the script.\n",
    "- Deleting an entry from `os.environ` removes it for subsequent operations within the process, but changes do not persist after the script exits."
   ]
  },
  {
   "cell_type": "code",
   "execution_count": null,
   "id": "f27457c5-12cd-48bf-a208-f28f1e156655",
   "metadata": {},
   "outputs": [],
   "source": []
  },
  {
   "cell_type": "markdown",
   "id": "bba1fb00-9bec-4cbb-910e-f966891c99de",
   "metadata": {},
   "source": [
    "## Using dotenv to Manage Local Environment Files\n",
    "- The python-dotenv library lets you keep sensitive and environment-specific values in a .env file instead of the shell.\n",
    "- A .env file lives alongside your script and contains lines like `KEY=value`; it's loaded at runtime into `os.environ`.\n",
    "- Install with `pip install python-dotenv==1.1.0` (version included here so that we are all using the same, in other installations it may be omitted), then call `load_dotenv()` before any `os.getenv` calls.\n",
    "- This approach keeps your shell clean and makes it easy to commit example `.env.example` files without secrets.\n",
    "- Remember not to commit actual .env files with real secrets! Add them to `.gitignore`."
   ]
  },
  {
   "cell_type": "code",
   "execution_count": null,
   "id": "94061dc2",
   "metadata": {},
   "outputs": [],
   "source": []
  },
  {
   "cell_type": "markdown",
   "id": "0a26bbf7",
   "metadata": {},
   "source": [
    "## Common Pitfalls & How to Avoid Them\n",
    "\n",
    "- Environment variable names are always case-sensitive in Python, regardless of the underlying OS; inconsistent casing leads to unexpected missing values.\n",
    "- Forgetting that all environment variable values are strings can cause type errors; always convert to the intended type like int or bool after retrieval.\n",
    "- Accessing a missing mandatory variable via os.environ raises KeyError; avoid unhandled errors by checking membership or catching exceptions.\n",
    "- Storing highly sensitive secrets in plain environment variables carries security risks; for production use, consider managed secrets solutions like Vault or AWS Secrets Manager."
   ]
  },
  {
   "cell_type": "code",
   "execution_count": null,
   "id": "76f37418-d0ac-4739-86d1-03e7a912abaf",
   "metadata": {},
   "outputs": [],
   "source": []
  }
 ],
 "metadata": {
  "kernelspec": {
   "display_name": "Python 3 (ipykernel)",
   "language": "python",
   "name": "python3"
  },
  "language_info": {
   "codemirror_mode": {
    "name": "ipython",
    "version": 3
   },
   "file_extension": ".py",
   "mimetype": "text/x-python",
   "name": "python",
   "nbconvert_exporter": "python",
   "pygments_lexer": "ipython3",
   "version": "3.12.9"
  }
 },
 "nbformat": 4,
 "nbformat_minor": 5
}
