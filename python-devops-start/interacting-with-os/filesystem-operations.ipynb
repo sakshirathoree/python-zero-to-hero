{
 "cells": [
  {
   "cell_type": "markdown",
   "id": "75498774-9207-44cf-a5ee-e76ddfdedd3a",
   "metadata": {},
   "source": [
    "# Filesystem Operations (os & shutil)\n",
    "\n",
    "- DevOps scripts often need to create, delete, copy, and move files and directories as part of automation workflows.  \n",
    "- The `os` module provides low-level filesystem functions, while `shutil` offers higher-level operations like copying and recursive removal.  \n",
    "- These tools work hand-in-hand with `pathlib` (for path manipulation) to build robust file management scripts.\n",
    " \n",
    "## Listing Directory Contents\n",
    "\n",
    "- Use `os.listdir(path)` to get a list of entry names (files and subdirectories) in a directory.  \n",
    "- Use `Path(path).iterdir()` to iterate over `Path` objects, which you can query further with methods like `.is_file()` or `.is_dir()`.  \n",
    "- `os.listdir` returns a plain list of strings; `iterdir()` yields full `Path` objects, making downstream operations more convenient.  "
   ]
  },
  {
   "cell_type": "code",
   "execution_count": null,
   "id": "6da1ba08-a588-4f4b-9c07-e444466f810d",
   "metadata": {},
   "outputs": [],
   "source": []
  },
  {
   "cell_type": "markdown",
   "id": "150d585e",
   "metadata": {},
   "source": [
    "## Creating Directories\n",
    "\n",
    "- `os.mkdir(path)` creates a single directory and fails if parents don’t exist or if it already exists.  \n",
    "- `os.makedirs(path, exist_ok=False)` creates all intermediate directories; set `exist_ok=True` to ignore existing leaf.  \n",
    "- `Path(path).mkdir(parents=True, exist_ok=True)` is the pathlib equivalent for recursive, idempotent creation.  "
   ]
  },
  {
   "cell_type": "code",
   "execution_count": null,
   "id": "b50229d7-ce3f-4667-81b7-25ac8aefd080",
   "metadata": {},
   "outputs": [],
   "source": []
  },
  {
   "cell_type": "markdown",
   "id": "1142cbf2",
   "metadata": {},
   "source": [
    "## Removing Files and Directories\n",
    "\n",
    "- `os.remove(path)` or `Path(path).unlink()` deletes a single file and raises if missing (unless `missing_ok=True`).  \n",
    "- `os.rmdir(path)` or `Path(path).rmdir()` removes an **empty** directory only.  \n",
    "- `shutil.rmtree(path)` recursively deletes a directory tree and all contents; use with extreme caution.  "
   ]
  },
  {
   "cell_type": "code",
   "execution_count": null,
   "id": "16e439e9",
   "metadata": {},
   "outputs": [],
   "source": []
  },
  {
   "cell_type": "markdown",
   "id": "e27bd5a5",
   "metadata": {},
   "source": [
    "## Copying Files and Directories\n",
    "\n",
    "- `shutil.copy(src, dst)` copies a file but does not preserve metadata like timestamps or permissions.  \n",
    "- `shutil.copy2(src, dst)` copies files **and** attempts to preserve metadata.  \n",
    "- `shutil.copytree(src_dir, dst_dir, dirs_exist_ok=False)` recursively copies an entire directory tree.  "
   ]
  },
  {
   "cell_type": "code",
   "execution_count": null,
   "id": "94061dc2",
   "metadata": {},
   "outputs": [],
   "source": []
  },
  {
   "cell_type": "markdown",
   "id": "0a26bbf7",
   "metadata": {},
   "source": [
    "## Moving Files and Directories\n",
    "\n",
    "- Use `shutil.move(src, dst)` to move or rename files and directories in one step.  \n",
    "- If `dst` is an existing directory, `src` is moved **into** it; if `dst` names a file, `src` is renamed there.  \n",
    "- Moving across filesystems may involve a copy-and-delete under the hood.  "
   ]
  },
  {
   "cell_type": "code",
   "execution_count": null,
   "id": "5704b344",
   "metadata": {},
   "outputs": [],
   "source": []
  },
  {
   "cell_type": "markdown",
   "id": "ead2d714",
   "metadata": {},
   "source": [
    "## Common Pitfalls & How to Avoid Them\n",
    "\n",
    "- **PermissionError:** Operations fail if the script lacks rights. Ensure correct ownership or run with appropriate privileges.  \n",
    "- **Non-empty Directories:** `os.rmdir()` and `Path.rmdir()` only remove empty dirs. Use `shutil.rmtree()` for recursive deletion, but do so carefully.  \n",
    "- **Existing Destinations:** `shutil.copytree()` errors if the target exists unless `dirs_exist_ok=True`. Consider pre-cleanup or that flag.  \n",
    "- **Irreversible Deletions:** There is no undo for `os.remove`, `os.rmdir`, or `shutil.rmtree()`. Add confirmation or dry-run modes when deleting!"
   ]
  },
  {
   "cell_type": "markdown",
   "id": "4ec3255f",
   "metadata": {},
   "source": []
  }
 ],
 "metadata": {
  "kernelspec": {
   "display_name": "Python 3 (ipykernel)",
   "language": "python",
   "name": "python3"
  },
  "language_info": {
   "codemirror_mode": {
    "name": "ipython",
    "version": 3
   },
   "file_extension": ".py",
   "mimetype": "text/x-python",
   "name": "python",
   "nbconvert_exporter": "python",
   "pygments_lexer": "ipython3",
   "version": "3.12.9"
  }
 },
 "nbformat": 4,
 "nbformat_minor": 5
}
