{
 "cells": [
  {
   "cell_type": "markdown",
   "id": "75498774-9207-44cf-a5ee-e76ddfdedd3a",
   "metadata": {},
   "source": [
    "# Temporary Files and Directories\n",
    "\n",
    "- Automation scripts often need scratch space for intermediate data without cluttering the filesystem or risking name collisions.  \n",
    "- Hardcoding names like `/tmp/my_file.txt` can lead to security issues, collisions, and manual cleanup.  \n",
    "- The `tempfile` module provides secure, unique temporary files and directories with optional automatic cleanup. \n",
    "\n",
    "## Why Use the tempfile Module?\n",
    "\n",
    "- It creates files with secure default permissions, preventing unauthorized access on multiuser systems.  \n",
    "- It generates unique names automatically, avoiding collisions when multiple script instances run concurrently.  \n",
    "- It integrates with context managers (`with`), enabling automatic cleanup of resources when they're no longer needed.  \n",
    "- It works across Windows, macOS, and Linux, choosing an appropriate temp location on each platform.  "
   ]
  },
  {
   "cell_type": "code",
   "execution_count": null,
   "id": "6da1ba08-a588-4f4b-9c07-e444466f810d",
   "metadata": {},
   "outputs": [],
   "source": []
  },
  {
   "cell_type": "markdown",
   "id": "150d585e",
   "metadata": {},
   "source": [
    "## tempfile.TemporaryFile()\n",
    "\n",
    "- Creates an unnamed temporary file opened in binary or text mode.  \n",
    "- On UNIX-like systems it typically has no name in the filesystem; on Windows it may appear but remains temporary.  \n",
    "- The file is deleted automatically when closed or when the context block exits.  \n",
    "- Ideal for internal scratch space that doesn’t need to be passed to external processes.  "
   ]
  },
  {
   "cell_type": "code",
   "execution_count": null,
   "id": "b50229d7-ce3f-4667-81b7-25ac8aefd080",
   "metadata": {},
   "outputs": [],
   "source": []
  },
  {
   "cell_type": "markdown",
   "id": "1142cbf2",
   "metadata": {},
   "source": [
    "## tempfile.NamedTemporaryFile()\n",
    "\n",
    "- Creates a temporary file with a visible name in the filesystem.  \n",
    "- Default `delete=True` removes the file when closed; `delete=False` leaves it for manual cleanup.  \n",
    "- Use when you need to pass a filename to another process or library.  \n",
    "- Supports custom `suffix`, `prefix`, and `dir` parameters for naming and placement.  "
   ]
  },
  {
   "cell_type": "code",
   "execution_count": null,
   "id": "16e439e9",
   "metadata": {},
   "outputs": [],
   "source": []
  },
  {
   "cell_type": "markdown",
   "id": "e27bd5a5",
   "metadata": {},
   "source": [
    "## tempfile.TemporaryDirectory()\n",
    "\n",
    "- Creates a new temporary directory, returned as a path string.  \n",
    "- When used in a `with` block, the directory and everything inside it are deleted on exit.  \n",
    "- Ideal for workflows that produce multiple temporary files or subdirectories.  "
   ]
  },
  {
   "cell_type": "code",
   "execution_count": null,
   "id": "94061dc2",
   "metadata": {},
   "outputs": [],
   "source": []
  },
  {
   "cell_type": "markdown",
   "id": "0a26bbf7",
   "metadata": {},
   "source": [
    "## Common Pitfalls & How to Avoid Them\n",
    "\n",
    "- Calling `os.rmdir()` or `Path.rmdir()` on a non-empty directory raises an error; use `shutil.rmtree()` for recursive deletion.  \n",
    "- Forgetting to delete files created with `delete=False` in `NamedTemporaryFile` can leave orphaned files.  \n",
    "- On Windows, other processes can’t open an open temporary file. Use `delete=False` and close it before sharing the name.  \n",
    "- Relying on a temporary file’s name after closing a `TemporaryFile` is impossible, since it may never have had one.  "
   ]
  },
  {
   "cell_type": "code",
   "execution_count": null,
   "id": "5704b344",
   "metadata": {},
   "outputs": [],
   "source": []
  }
 ],
 "metadata": {
  "kernelspec": {
   "display_name": "Python 3 (ipykernel)",
   "language": "python",
   "name": "python3"
  },
  "language_info": {
   "codemirror_mode": {
    "name": "ipython",
    "version": 3
   },
   "file_extension": ".py",
   "mimetype": "text/x-python",
   "name": "python",
   "nbconvert_exporter": "python",
   "pygments_lexer": "ipython3",
   "version": "3.12.9"
  }
 },
 "nbformat": 4,
 "nbformat_minor": 5
}
