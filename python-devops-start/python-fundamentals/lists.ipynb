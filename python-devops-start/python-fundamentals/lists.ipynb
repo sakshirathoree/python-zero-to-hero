{
 "cells": [
  {
   "cell_type": "markdown",
   "id": "92cc7603",
   "metadata": {},
   "source": [
    "# Lists (`list`)\n",
    "\n",
    "Lists are ordered, mutable sequences defined with square brackets `[]`. You can add, remove, or change items after creation."
   ]
  },
  {
   "cell_type": "markdown",
   "id": "dec16828",
   "metadata": {},
   "source": [
    "## Characteristics and Use Cases\n",
    "- Ordered: items maintain position\n",
    "- Mutable: `.append()`, `.insert()`, `.pop()`, `.remove()`\n",
    "- Ideal for storing sequences where order matters and contents change (e.g., list of servers, deployment steps)\n",
    "\n",
    "## Accessing Items and Slicing\n",
    "- Access single elements with `my_list[index]` (0-based). Use negative indices like `my_list[-1]` for the last item.\n",
    "- Slice with `my_list[start:stop]` to get a sub-list from `start` up to (but not including) `stop`.\n",
    "- Use three-parameter slicing `my_list[start:stop:step]` for stepping, e.g., `my_list[::2]` selects every other element.\n",
    "- Omitting `start` or `stop` defaults to the beginning or end of the list respectively, and slicing returns a new list without modifying the original."
   ]
  },
  {
   "cell_type": "code",
   "execution_count": null,
   "id": "a926ed1b-4d48-46e5-93e6-706e763878c9",
   "metadata": {},
   "outputs": [],
   "source": []
  },
  {
   "cell_type": "code",
   "execution_count": null,
   "id": "c3cb2082-2372-4e77-996e-a44fa192ec0b",
   "metadata": {},
   "outputs": [],
   "source": []
  },
  {
   "cell_type": "markdown",
   "id": "2a604ab0",
   "metadata": {},
   "source": [
    "## Hands-on Exercise\n",
    "1. Create a list `deployment_targets` with values `['us-east-1', 'eu-west-1', 'ap-southeast-2']`\n",
    "2. Print the first target\n",
    "3. Append `'us-west-2'`\n",
    "4. Change the second element to `'eu-central-1'`\n",
    "5. Print the list after each step"
   ]
  },
  {
   "cell_type": "code",
   "execution_count": null,
   "id": "01c35747-c9fd-45b5-97bb-193beb4f958f",
   "metadata": {},
   "outputs": [],
   "source": []
  }
 ],
 "metadata": {
  "kernelspec": {
   "display_name": "Python 3 (ipykernel)",
   "language": "python",
   "name": "python3"
  },
  "language_info": {
   "codemirror_mode": {
    "name": "ipython",
    "version": 3
   },
   "file_extension": ".py",
   "mimetype": "text/x-python",
   "name": "python",
   "nbconvert_exporter": "python",
   "pygments_lexer": "ipython3",
   "version": "3.12.9"
  }
 },
 "nbformat": 4,
 "nbformat_minor": 5
}
