{
 "cells": [
  {
   "cell_type": "markdown",
   "id": "673d5858",
   "metadata": {},
   "source": [
    "# Dictionaries (`dict`)\n",
    "\n",
    "Dictionaries are mutable, insertion-ordered collections of key-value pairs. Keys must be unique and immutable; values can be of any type."
   ]
  },
  {
   "cell_type": "markdown",
   "id": "8e1f18ff",
   "metadata": {},
   "source": [
    "## Characteristics and Use Cases\n",
    "- Insertion-ordered (Python 3.7+)\n",
    "- Mutable: add, remove, or change key-value pairs\n",
    "- Fast lookups by key\n",
    "- Ideal for configuration data, JSON-like structures, and lookups"
   ]
  },
  {
   "cell_type": "markdown",
   "id": "d241bd89-adc5-456e-818d-6b93a887c149",
   "metadata": {},
   "source": [
    "## Dictionary Operations Overview\n",
    "\n",
    "Dictionaries in Python support a variety of operations for efficient data manipulation:\n",
    "\n",
    "- **Length**: Use `len(my_dictionary)` to get the number of key-value pairs.\n",
    "- **Accessing Keys, Values, and Items**: Use `my_dictionary.keys()`, `my_dictionary.values()`, and `my_dictionary.items()` to retrieve keys, values, or key-value pairs.\n",
    "- **Membership Test**: Check if a key exists using `'key' in my_dictionary`.\n",
    "- **Get with Default**: Use `my_dictionary.get('key', default)` to safely retrieve a value with a fallback.\n",
    "- **Setdefault**: Add a key with a default value if it doesn't exist using `my_dictionary.setdefault(key, default)`.\n",
    "- **Pop and Popitem**: Remove a specific key with `my_dictionary.pop(key)` or remove an arbitrary key-value pair with `my_dictionary.popitem()`.\n",
    "- **Merging**: Combine dictionaries using the `|` operator (Python 3.9+) or `update()` method.\n",
    "- **Fromkeys**: Create a new dictionary with specified keys and a default value using `dict.fromkeys(keys, value)`.\n",
    "- **Clear**: Remove all items from the dictionary with `my_dictionary.clear()`."
   ]
  },
  {
   "cell_type": "code",
   "execution_count": null,
   "id": "773e70a5",
   "metadata": {},
   "outputs": [],
   "source": []
  },
  {
   "cell_type": "code",
   "execution_count": null,
   "id": "7b169d2c-9993-49a4-854c-50cda3b0b955",
   "metadata": {},
   "outputs": [],
   "source": []
  },
  {
   "cell_type": "markdown",
   "id": "753e157d",
   "metadata": {},
   "source": [
    "## Adding and Updating Items\n",
    "- `server_config['port'] = 8080`  # Update existing key\n",
    "- `server_config['environment'] = 'production'`  # Add new key-value pair"
   ]
  },
  {
   "cell_type": "code",
   "execution_count": null,
   "id": "5673b794",
   "metadata": {},
   "outputs": [],
   "source": []
  },
  {
   "cell_type": "markdown",
   "id": "e69298a8",
   "metadata": {},
   "source": [
    "## Hands-on Exercise\n",
    "Practice creating and manipulating dictionaries:\n",
    "1. Create a `server_info` dict with keys: `'id'`, `'ip_address'`, `'state'`, and `'tags'` (a dictionary of tag keys and tag values)\n",
    "2. Print the server's `'state'`\n",
    "3. Safely get `'instance_type'` with default `'t2.micro'`\n",
    "4. Change `'state'` to `'stopped'`\n",
    "5. Add a new tag to `tags` dictionary\n",
    "6. Iterate over the dictionary with `.items()` to display key-value pairs"
   ]
  },
  {
   "cell_type": "code",
   "execution_count": null,
   "id": "64295288-0e18-41fa-b7f4-0e893ac36b28",
   "metadata": {},
   "outputs": [],
   "source": []
  },
  {
   "cell_type": "code",
   "execution_count": null,
   "id": "ea4c6ee1-d417-4d6d-84eb-c971f6fbe63a",
   "metadata": {},
   "outputs": [],
   "source": []
  }
 ],
 "metadata": {
  "kernelspec": {
   "display_name": "Python 3 (ipykernel)",
   "language": "python",
   "name": "python3"
  },
  "language_info": {
   "codemirror_mode": {
    "name": "ipython",
    "version": 3
   },
   "file_extension": ".py",
   "mimetype": "text/x-python",
   "name": "python",
   "nbconvert_exporter": "python",
   "pygments_lexer": "ipython3",
   "version": "3.12.9"
  }
 },
 "nbformat": 4,
 "nbformat_minor": 5
}
