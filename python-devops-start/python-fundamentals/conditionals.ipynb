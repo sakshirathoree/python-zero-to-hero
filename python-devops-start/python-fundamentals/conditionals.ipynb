{
 "cells": [
  {
   "cell_type": "markdown",
   "id": "b23cced1",
   "metadata": {
    "language": "markdown"
   },
   "source": [
    "# If / Elif / Else Logic\n",
    "\n",
    "Control the flow of scripts based on conditions using `if`, `elif`, and `else`."
   ]
  },
  {
   "cell_type": "markdown",
   "id": "055e82a4",
   "metadata": {
    "language": "markdown"
   },
   "source": [
    "## The `if` Statement\n",
    "\n",
    "An `if` statement executes a block of code only if a condition is `True`.\n",
    "\n",
    "- Syntax: `if <condition>:` followed by an indented block\n",
    "- Comparison operators: `==`, `!=`, `<`, `>`, `<=`, `>=`, `in`\n",
    "- Combine conditions with `and`, `or`, `not`"
   ]
  },
  {
   "cell_type": "code",
   "execution_count": null,
   "id": "49aba219",
   "metadata": {
    "language": "python"
   },
   "outputs": [],
   "source": []
  },
  {
   "cell_type": "markdown",
   "id": "82955f1b",
   "metadata": {
    "language": "markdown"
   },
   "source": [
    "### Truthiness\n",
    "\n",
    "Python treats many values as truthy or falsy in conditionals.\n",
    "\n",
    "- **Falsy**: `False`, `None`, `0`, `0.0`, `''`, `[]`, `{}`\n",
    "- **Truthy**: non-zero numbers, non-empty sequences/collections"
   ]
  },
  {
   "cell_type": "code",
   "execution_count": null,
   "id": "daf3fbf7",
   "metadata": {
    "language": "python"
   },
   "outputs": [],
   "source": []
  },
  {
   "cell_type": "markdown",
   "id": "aac2fc72",
   "metadata": {
    "language": "markdown"
   },
   "source": [
    "## The `else` statement\n",
    "\n",
    "Use `else` to execute code when the `if` condition is false."
   ]
  },
  {
   "cell_type": "code",
   "execution_count": null,
   "id": "b13de24d",
   "metadata": {
    "language": "python"
   },
   "outputs": [],
   "source": []
  },
  {
   "cell_type": "markdown",
   "id": "28848ea0",
   "metadata": {
    "language": "markdown"
   },
   "source": [
    "## The `elif` statement\n",
    "\n",
    "Chain multiple checks; the first true block runs."
   ]
  },
  {
   "cell_type": "code",
   "execution_count": null,
   "id": "666d75a2",
   "metadata": {
    "language": "python"
   },
   "outputs": [],
   "source": []
  },
  {
   "cell_type": "markdown",
   "id": "50ed1f12",
   "metadata": {
    "language": "markdown"
   },
   "source": [
    "## Guard Clauses\n",
    "\n",
    "Handle edge cases at the top of functions to avoid deep nesting of `if` conditions."
   ]
  },
  {
   "cell_type": "code",
   "execution_count": null,
   "id": "1decd6fe-6463-4a5f-b356-a80e2c1e43e1",
   "metadata": {},
   "outputs": [],
   "source": []
  },
  {
   "cell_type": "code",
   "execution_count": null,
   "id": "cc0c414d-428c-445f-8d7e-02a6b0061bcf",
   "metadata": {},
   "outputs": [],
   "source": []
  }
 ],
 "metadata": {
  "kernelspec": {
   "display_name": "Python 3 (ipykernel)",
   "language": "python",
   "name": "python3"
  },
  "language_info": {
   "codemirror_mode": {
    "name": "ipython",
    "version": 3
   },
   "file_extension": ".py",
   "mimetype": "text/x-python",
   "name": "python",
   "nbconvert_exporter": "python",
   "pygments_lexer": "ipython3",
   "version": "3.12.9"
  }
 },
 "nbformat": 4,
 "nbformat_minor": 5
}
