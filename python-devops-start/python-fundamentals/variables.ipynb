{
 "cells": [
  {
   "cell_type": "markdown",
   "id": "ae130a49-55c0-439c-be2a-2a1bd97450d6",
   "metadata": {},
   "source": [
    "## Variables: Naming Values\n",
    "\n",
    "- **Assignment:** Use the equals sign (`=`) to label values. Example: `config_path = \"/etc/app.conf\"`.\n",
    "- **Naming Guidelines:**\n",
    "  - Must start with a letter or underscore (`_`) and can contain letters, numbers, and underscores.\n",
    "  - Use `snake_case` for readability (e.g., `max_retries`).\n",
    "- **Purpose:** Store data like file paths, server counts, status messages, API keys, configurations.\n",
    "- **Typing:** Python uses dynamic typing, which means we don't need to explicitly declare the variable type, and we can assign values with different types to the same variable (not recommended!)"
   ]
  },
  {
   "cell_type": "code",
   "execution_count": null,
   "id": "7a132703-edfd-4299-b87c-ca71a3e06f74",
   "metadata": {},
   "outputs": [],
   "source": []
  }
 ],
 "metadata": {
  "kernelspec": {
   "display_name": "Python 3 (ipykernel)",
   "language": "python",
   "name": "python3"
  },
  "language_info": {
   "codemirror_mode": {
    "name": "ipython",
    "version": 3
   },
   "file_extension": ".py",
   "mimetype": "text/x-python",
   "name": "python",
   "nbconvert_exporter": "python",
   "pygments_lexer": "ipython3",
   "version": "3.12.9"
  }
 },
 "nbformat": 4,
 "nbformat_minor": 5
}
