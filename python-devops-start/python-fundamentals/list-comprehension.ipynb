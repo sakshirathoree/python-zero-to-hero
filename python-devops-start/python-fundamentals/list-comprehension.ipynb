{
 "cells": [
  {
   "cell_type": "markdown",
   "id": "a57d26ce",
   "metadata": {},
   "source": [
    "# Concise Iteration: List Comprehensions\n",
    "\n",
    "Simple `for` loops to create lists can be verbose. We can leverage list comprehensions to define the list contents directly within square brackets, obtaining a more compact syntax."
   ]
  },
  {
   "cell_type": "code",
   "execution_count": null,
   "id": "0bc29d4d",
   "metadata": {},
   "outputs": [],
   "source": []
  },
  {
   "cell_type": "markdown",
   "id": "f9746b6d",
   "metadata": {},
   "source": [
    "## List Comprehension Syntax\n",
    "\n",
    "- Syntax: `[<expression> for <item> in <iterable>]`\n",
    "- `[]` indicates a new list is created eagerly.\n",
    "- `<expression>` is applied to each item.\n",
    "- `for <item> in <iterable>` defines the loop."
   ]
  },
  {
   "cell_type": "code",
   "execution_count": null,
   "id": "716cb804",
   "metadata": {},
   "outputs": [],
   "source": []
  },
  {
   "cell_type": "markdown",
   "id": "d1e1c765",
   "metadata": {},
   "source": [
    "## Filtering with `if` in Comprehensions\n",
    "\n",
    "- Purpose: Include only items meeting a condition.\n",
    "- Syntax: `[<expression> for <item> in <iterable> if <condition>]`.\n",
    "- The condition filters items before expression is evaluated."
   ]
  },
  {
   "cell_type": "code",
   "execution_count": null,
   "id": "d82281a3",
   "metadata": {},
   "outputs": [],
   "source": []
  },
  {
   "cell_type": "markdown",
   "id": "beb64197",
   "metadata": {},
   "source": [
    "# Set and Dictionary Comprehensions\n",
    "\n",
    "- Set comprehension uses `{}` and produces unique items.\n",
    "- Dictionary comprehension uses `{key: value ...}`.\n",
    "- Both evaluated eagerly like list comprehensions."
   ]
  },
  {
   "cell_type": "code",
   "execution_count": null,
   "id": "51c28a23",
   "metadata": {},
   "outputs": [],
   "source": []
  },
  {
   "cell_type": "markdown",
   "id": "efa888c4",
   "metadata": {},
   "source": [
    "# Conditional Expression (Ternary Operator)\n",
    "\n",
    "- Purpose: Apply different expressions based on a condition within the comprehension.\n",
    "- Syntax: `<value_if_true> if <condition> else <value_if_false>` inside the comprehension.\n",
    "- Places the ternary before the `for` clause."
   ]
  },
  {
   "cell_type": "code",
   "execution_count": null,
   "id": "6e7bdc52",
   "metadata": {},
   "outputs": [],
   "source": []
  },
  {
   "cell_type": "code",
   "execution_count": null,
   "id": "416db3f9-e822-41cf-84b3-8323a6be6e5a",
   "metadata": {},
   "outputs": [],
   "source": []
  }
 ],
 "metadata": {
  "kernelspec": {
   "display_name": "Python 3 (ipykernel)",
   "language": "python",
   "name": "python3"
  },
  "language_info": {
   "codemirror_mode": {
    "name": "ipython",
    "version": 3
   },
   "file_extension": ".py",
   "mimetype": "text/x-python",
   "name": "python",
   "nbconvert_exporter": "python",
   "pygments_lexer": "ipython3",
   "version": "3.12.9"
  }
 },
 "nbformat": 4,
 "nbformat_minor": 5
}
