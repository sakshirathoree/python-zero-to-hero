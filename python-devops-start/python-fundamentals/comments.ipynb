{
 "cells": [
  {
   "cell_type": "markdown",
   "id": "8ecfeeda",
   "metadata": {},
   "source": [
    "# Comments\n",
    "Python code may be readable, but comments and docstrings explain intent, rationale, and usage. Comments (`#`) are ignored by the interpreter; docstrings (`\"\"\"...\"\"\"`) are accessible via `__doc__` (we'll come back to docstrings later, when we discuss functions)."
   ]
  },
  {
   "cell_type": "markdown",
   "id": "a237ac4f",
   "metadata": {},
   "source": [
    "## Single-Line Comments (#)\n",
    "Use `#` to comment single lines or inline code. Best for explaining *why*, adding TODO/FIXME markers, or temporarily disabling code."
   ]
  },
  {
   "cell_type": "code",
   "execution_count": null,
   "id": "daa90315",
   "metadata": {},
   "outputs": [],
   "source": []
  },
  {
   "cell_type": "markdown",
   "id": "3b902e92",
   "metadata": {},
   "source": [
    "## Multi-Line / Block Comments\n",
    "Prefix each line with `#` to comment out blocks of code. Useful for disabling sections or annotating complex logic. It's also possible to wrap multiline comments between triple single-quotes (`'''...'''`) or between triple double-quotes (`\"\"\"...\"\"\"`), but this is not their original intended usage."
   ]
  },
  {
   "cell_type": "code",
   "execution_count": null,
   "id": "9b06cd4c",
   "metadata": {},
   "outputs": [],
   "source": []
  }
 ],
 "metadata": {
  "kernelspec": {
   "display_name": "Python 3 (ipykernel)",
   "language": "python",
   "name": "python3"
  },
  "language_info": {
   "codemirror_mode": {
    "name": "ipython",
    "version": 3
   },
   "file_extension": ".py",
   "mimetype": "text/x-python",
   "name": "python",
   "nbconvert_exporter": "python",
   "pygments_lexer": "ipython3",
   "version": "3.12.9"
  }
 },
 "nbformat": 4,
 "nbformat_minor": 5
}
