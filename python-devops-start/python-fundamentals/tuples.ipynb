{
 "cells": [
  {
   "cell_type": "markdown",
   "id": "8e2da9b6",
   "metadata": {},
   "source": [
    "# Tuples (`tuple`)\n",
    "\n",
    "Tuples are ordered, immutable sequences defined with parentheses `()`. Once created, their contents cannot be changed."
   ]
  },
  {
   "cell_type": "markdown",
   "id": "21108156",
   "metadata": {},
   "source": [
    "## Characteristics and Use Cases\n",
    "- Ordered: items maintain position\n",
    "- Immutable: cannot add, remove, or change after creation\n",
    "- Useful for fixed records like coordinates, version numbers, or as dictionary keys"
   ]
  },
  {
   "cell_type": "code",
   "execution_count": null,
   "id": "5ad35df9",
   "metadata": {},
   "outputs": [],
   "source": []
  },
  {
   "cell_type": "markdown",
   "id": "49687e99",
   "metadata": {},
   "source": [
    "## Hands-on Exercise\n",
    "1. Create a tuple `service_endpoint` with hostname and port values.\n",
    "2. Print the hostname and port.\n",
    "3. Attempt to modify an element (commented out to avoid error)."
   ]
  },
  {
   "cell_type": "code",
   "execution_count": null,
   "id": "d48b5545-7c66-4d1e-b3f3-bca5ccb5211e",
   "metadata": {},
   "outputs": [],
   "source": []
  },
  {
   "cell_type": "code",
   "execution_count": null,
   "id": "a162aac2-ef4b-42ea-bd6e-4763d537ebb3",
   "metadata": {},
   "outputs": [],
   "source": []
  }
 ],
 "metadata": {
  "kernelspec": {
   "display_name": "Python 3 (ipykernel)",
   "language": "python",
   "name": "python3"
  },
  "language_info": {
   "codemirror_mode": {
    "name": "ipython",
    "version": 3
   },
   "file_extension": ".py",
   "mimetype": "text/x-python",
   "name": "python",
   "nbconvert_exporter": "python",
   "pygments_lexer": "ipython3",
   "version": "3.12.9"
  }
 },
 "nbformat": 4,
 "nbformat_minor": 5
}
