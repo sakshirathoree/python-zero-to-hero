{
 "cells": [
  {
   "cell_type": "markdown",
   "id": "47cc9276",
   "metadata": {},
   "source": [
    "# Lambda Functions\n",
    "- Python functions defined with `def` allow multiple statements, clear naming, and support for docstrings, making them ideal for complex or reusable logic.  \n",
    "- In many cases, you need a simple, single-expression function to pass directly to another function without the ceremony of a full definition.  \n",
    "- The `lambda` keyword lets you create small, anonymous functions inline, avoiding the verbosity of a `def` for trivial operations.  \n",
    "- These one-line functions are particularly handy when you want to supply custom behavior to built-in higher-order functions without polluting your namespace with one-off function names.  "
   ]
  },
  {
   "cell_type": "markdown",
   "id": "06eb567a",
   "metadata": {},
   "source": [
    "## Syntax of a lambda Function\n",
    "- A `lambda` function follows the exact pattern: `lambda <arguments>: <expression>`, where the expression result is implicitly returned.  \n",
    "- The `lambda` keyword introduces the function, `<arguments>` lists its parameters, and a colon separates them from the single expression body.  \n",
    "- You cannot include multiple statements, loops, or traditional `if/else` blocks: only a single expression or a ternary expression.  \n",
    "- Compared to a `def` function, a `lambda` is nameless and concise, making it ideal for inline usage where defining a named function would be overkill.  "
   ]
  },
  {
   "cell_type": "code",
   "execution_count": null,
   "id": "3a0057ff-0504-4123-8c94-1210774e4177",
   "metadata": {},
   "outputs": [],
   "source": []
  },
  {
   "cell_type": "markdown",
   "id": "fc925a20-8894-4c87-9157-7f3e19c75fb4",
   "metadata": {},
   "source": [
    "## Custom Sorting with sorted()\n",
    "- The built-in `sorted()` function accepts an optional `key` parameter, which should be a function that returns a comparison key for each element.  \n",
    "- Using a `lambda` for the `key` argument lets you define the sorting logic inline without a separate function definition.  \n",
    "- This approach keeps your code concise and focused, especially when the key logic is a simple attribute extraction or computation.  \n",
    "- When you need more complex sorting logic, you can still fall back to a named `def` function for clarity.  "
   ]
  },
  {
   "cell_type": "code",
   "execution_count": null,
   "id": "2be63c6e",
   "metadata": {},
   "outputs": [],
   "source": []
  },
  {
   "cell_type": "markdown",
   "id": "47fa7649-8417-43f8-86f2-4ef6f22a0a12",
   "metadata": {},
   "source": [
    "## Transforming Data with map()\n",
    "- The `map(function, iterable)` built-in applies a given function to each item in an iterable, producing an iterator of results.  \n",
    "- Using a `lambda` with `map` lets you specify simple transformations inline without an extra function definition.  \n",
    "- Although list comprehensions are often preferred for readability, `map` with a `lambda` can be concise when you already need an iterator or want to emphasize the function-application nature.  \n",
    "- Remember that `map` returns a lazy iterator; convert it to a list if you need to access all results at once.  "
   ]
  },
  {
   "cell_type": "code",
   "execution_count": null,
   "id": "d197dc77-f1a8-4171-ab38-93f2e5ea1009",
   "metadata": {},
   "outputs": [],
   "source": []
  },
  {
   "cell_type": "markdown",
   "id": "dfa2bc68",
   "metadata": {},
   "source": [
    "## Filtering Data with filter()\n",
    "- The `filter(function, iterable)` built-in yields only those items for which the function returns `True`.  \n",
    "- A `lambda` in `filter` is perfect for inline tests, such as checking attributes or simple conditions.  \n",
    "- As with `map`, `filter` returns an iterator, so wrap it in `list()` to evaluate immediately if needed.  \n",
    "- While list comprehensions can express filtering more idiomatically in modern Python, `filter` remains a clear demonstration of higher-order function usage.  "
   ]
  },
  {
   "cell_type": "code",
   "execution_count": null,
   "id": "4e2102bf",
   "metadata": {},
   "outputs": [],
   "source": []
  },
  {
   "cell_type": "code",
   "execution_count": null,
   "id": "5a9ffaff-a56d-43cd-8f73-bc99917e4185",
   "metadata": {},
   "outputs": [],
   "source": []
  }
 ],
 "metadata": {
  "kernelspec": {
   "display_name": "Python 3 (ipykernel)",
   "language": "python",
   "name": "python3"
  },
  "language_info": {
   "codemirror_mode": {
    "name": "ipython",
    "version": 3
   },
   "file_extension": ".py",
   "mimetype": "text/x-python",
   "name": "python",
   "nbconvert_exporter": "python",
   "pygments_lexer": "ipython3",
   "version": "3.12.9"
  }
 },
 "nbformat": 4,
 "nbformat_minor": 5
}
