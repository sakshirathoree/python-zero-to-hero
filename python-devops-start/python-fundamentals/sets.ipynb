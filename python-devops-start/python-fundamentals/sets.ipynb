{
 "cells": [
  {
   "cell_type": "markdown",
   "id": "d7c79d37",
   "metadata": {},
   "source": [
    "# Sets (`set`)\n",
    "\n",
    "- **Characteristics:** Unordered, Mutable, Unique items only (duplicates removed)\n",
    "  - The items of a set **must be immutable**.\n",
    "- **Use Cases:** Membership testing, removing duplicates, set operations (union, intersection, difference)."
   ]
  },
  {
   "cell_type": "markdown",
   "id": "61c58902-3118-4c32-82f6-85061b7d7917",
   "metadata": {},
   "source": [
    "## Set Operations\n",
    "\n",
    "- **Membership Testing:** Check if an item exists in a set using the `in` keyword.\n",
    "- **Adding Items:** Use `add()` to add an item to a set.\n",
    "- **Removing Items:** Use `remove()` to remove an item (raises an error if the item doesn't exist) or `discard()` to remove an item (doesn't raise an error if the item doesn't exist).\n",
    "- **Set Operations:**\n",
    "    - **Union:** Combine all unique items from two sets using `union()` or `|`.\n",
    "    - **Intersection:** Find common items between two sets using `intersection()` or `&`.\n",
    "    - **Difference:** Find items in one set but not in another using `difference()` or `-`."
   ]
  },
  {
   "cell_type": "code",
   "execution_count": null,
   "id": "d322affb-a9b4-4e7f-b562-88c70e31bfa8",
   "metadata": {},
   "outputs": [],
   "source": []
  },
  {
   "cell_type": "code",
   "execution_count": null,
   "id": "302359f2-2892-4476-b267-fbb3efd33abb",
   "metadata": {},
   "outputs": [],
   "source": []
  },
  {
   "cell_type": "markdown",
   "id": "e29ecb1d",
   "metadata": {},
   "source": [
    "## Hands-on Exercise: Sets Practice\n",
    "\n",
    "**Goal:** Practice creating and manipulating sets in Python.\n",
    "\n",
    "**Instructions:**\n",
    "1. Create a set of strings named `required_packages`, representing possible required packages.\n",
    "2. Include a few duplicates to practice set operations.\n",
    "3. Test for membership of 'requests' and 'ansible' strings.\n",
    "4. Add 'paramiko' and safely remove 'pip' from the set.\n",
    "5. Create another set of strings, now named `installed`. Mention a few of the packages listed under the `required` set.\n",
    "6. Given these two sets, compute missing, extra, and common packages."
   ]
  },
  {
   "cell_type": "code",
   "execution_count": null,
   "id": "61d91d6d-2ef4-4063-9384-5b7f5b7f7362",
   "metadata": {},
   "outputs": [],
   "source": []
  }
 ],
 "metadata": {
  "kernelspec": {
   "display_name": "Python 3 (ipykernel)",
   "language": "python",
   "name": "python3"
  },
  "language_info": {
   "codemirror_mode": {
    "name": "ipython",
    "version": 3
   },
   "file_extension": ".py",
   "mimetype": "text/x-python",
   "name": "python",
   "nbconvert_exporter": "python",
   "pygments_lexer": "ipython3",
   "version": "3.12.9"
  }
 },
 "nbformat": 4,
 "nbformat_minor": 5
}
