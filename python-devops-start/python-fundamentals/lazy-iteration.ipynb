{
 "cells": [
  {
   "cell_type": "markdown",
   "id": "2aeebe16",
   "metadata": {},
   "source": [
    "# Efficient Looping: `range`\n",
    "\n",
    "- Creating large lists for loops is memory-intensive (e.g., `list(range(1_000_000))`).\n",
    "- `range()` stores only start, stop, and step values, not all numbers.\n",
    "- Numbers are generated one at a time during iteration, reducing memory usage.\n",
    "- Ideal for loops needing a fixed number of iterations without large allocations."
   ]
  },
  {
   "cell_type": "code",
   "execution_count": null,
   "id": "6e241cb0",
   "metadata": {},
   "outputs": [],
   "source": []
  },
  {
   "cell_type": "markdown",
   "id": "640fd87f",
   "metadata": {},
   "source": [
    "## Using `range()`\n",
    "\n",
    "- range(stop): iterate from 0 up to (but not including) stop.\n",
    "- range(start, stop): iterate from start up to stop.\n",
    "- range(start, stop, step): iterate with a custom step increment."
   ]
  },
  {
   "cell_type": "code",
   "execution_count": null,
   "id": "9033a333",
   "metadata": {},
   "outputs": [],
   "source": []
  },
  {
   "cell_type": "markdown",
   "id": "70e8e421",
   "metadata": {},
   "source": [
    "## Getting Index + Value: `enumerate()`\n",
    "\n",
    "- Use `enumerate(iterable, start=0)` to get `(index, item)` tuples.\n",
    "- The start parameter sets the initial index value."
   ]
  },
  {
   "cell_type": "code",
   "execution_count": null,
   "id": "b889234c",
   "metadata": {},
   "outputs": [],
   "source": []
  },
  {
   "cell_type": "markdown",
   "id": "5e518dc3",
   "metadata": {},
   "source": [
    "## Parallel Iteration: `zip()`\n",
    "\n",
    "- Use `zip(*iterables)` to pair items from multiple iterables.\n",
    "- Iteration stops when the shortest iterable is exhausted."
   ]
  },
  {
   "cell_type": "code",
   "execution_count": null,
   "id": "b6baf3d4-236b-414c-8d50-8753b8583ca7",
   "metadata": {},
   "outputs": [],
   "source": []
  }
 ],
 "metadata": {
  "kernelspec": {
   "display_name": "Python 3 (ipykernel)",
   "language": "python",
   "name": "python3"
  },
  "language_info": {
   "codemirror_mode": {
    "name": "ipython",
    "version": 3
   },
   "file_extension": ".py",
   "mimetype": "text/x-python",
   "name": "python",
   "nbconvert_exporter": "python",
   "pygments_lexer": "ipython3",
   "version": "3.12.9"
  }
 },
 "nbformat": 4,
 "nbformat_minor": 5
}
