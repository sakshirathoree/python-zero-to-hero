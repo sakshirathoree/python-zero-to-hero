{
 "cells": [
  {
   "cell_type": "markdown",
   "id": "cfa68eb0-7d14-408c-8fbe-9193f570325b",
   "metadata": {},
   "source": [
    "## Numbers (`int` and `float`)\n",
    "\n",
    "- **int:** Whole numbers (e.g., `10`, `1024`). No overflow due to arbitrary precision.\n",
    "- **float:** Numbers with decimals (e.g., `3.14159`). Uses IEEE 754 representation; small precision differences possible."
   ]
  },
  {
   "cell_type": "code",
   "execution_count": null,
   "id": "44afd4c3-cf45-4a88-b1fd-e3b3216ee622",
   "metadata": {},
   "outputs": [],
   "source": []
  },
  {
   "cell_type": "markdown",
   "id": "9d82ef7e-1eac-46c3-88e6-d4acedf45ffe",
   "metadata": {},
   "source": [
    "## Arithmetic Operations\n",
    "\n",
    "- `+`, `-`, `*`, `/`\n",
    "- `/` true division → float\n",
    "- `//` floor division → integer or float\n",
    "- `%` modulo → remainder\n",
    "- `**` → power"
   ]
  },
  {
   "cell_type": "code",
   "execution_count": null,
   "id": "9672fcdd-f9e6-41bb-85e1-07b7ba40b810",
   "metadata": {},
   "outputs": [],
   "source": []
  },
  {
   "cell_type": "code",
   "execution_count": null,
   "id": "680e077a-e23f-4ad7-a7c0-8866628fa5cd",
   "metadata": {},
   "outputs": [],
   "source": []
  }
 ],
 "metadata": {
  "kernelspec": {
   "display_name": "Python 3 (ipykernel)",
   "language": "python",
   "name": "python3"
  },
  "language_info": {
   "codemirror_mode": {
    "name": "ipython",
    "version": 3
   },
   "file_extension": ".py",
   "mimetype": "text/x-python",
   "name": "python",
   "nbconvert_exporter": "python",
   "pygments_lexer": "ipython3",
   "version": "3.12.9"
  }
 },
 "nbformat": 4,
 "nbformat_minor": 5
}
