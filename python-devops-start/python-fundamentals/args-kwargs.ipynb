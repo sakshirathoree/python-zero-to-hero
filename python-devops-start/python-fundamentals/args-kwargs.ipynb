{
 "cells": [
  {
   "cell_type": "markdown",
   "id": "725c30c4",
   "metadata": {},
   "source": [
    "# Flexible Functions: `*args` and `**kwargs`\n",
    "\n",
    "- We can use the syntax `*args` and `**kwargs` to accept a variable number of both positional and keyword arguments."
   ]
  },
  {
   "cell_type": "code",
   "execution_count": null,
   "id": "f8acdefe",
   "metadata": {},
   "outputs": [],
   "source": []
  },
  {
   "cell_type": "markdown",
   "id": "7e6b7322",
   "metadata": {},
   "source": [
    "## `*args` in Definition: Collecting Positionals\n",
    "- Uses `*args` to gather extra positional parameters into a tuple\n",
    "- Allows functions to accept any number of positional inputs\n",
    "- Common in utilities like custom logging or aggregation functions"
   ]
  },
  {
   "cell_type": "code",
   "execution_count": null,
   "id": "5b4f2469",
   "metadata": {},
   "outputs": [],
   "source": []
  },
  {
   "cell_type": "markdown",
   "id": "f70c029c",
   "metadata": {},
   "source": [
    "## `**kwargs` in Definition: Collecting Keywords\n",
    "- Uses `**kwargs` to gather extra named parameters into a dictionary\n",
    "- Ideal for optional configuration flags or settings\n",
    "- Enables functions to accept flexible keyword arguments without predefining them"
   ]
  },
  {
   "cell_type": "code",
   "execution_count": null,
   "id": "d98ff665",
   "metadata": {},
   "outputs": [],
   "source": []
  },
  {
   "cell_type": "markdown",
   "id": "8e6d7f29",
   "metadata": {},
   "source": [
    "## Order in Definition Matters\n",
    "- Standard positional parameters must come first, some might also have a default value\n",
    "- Followed by `*args` to catch extra positionals\n",
    "- Then keyword-only parameters, some might also have a default value\n",
    "- Finally `**kwargs` to catch extra keyword arguments"
   ]
  },
  {
   "cell_type": "code",
   "execution_count": null,
   "id": "55c1694f",
   "metadata": {},
   "outputs": [],
   "source": []
  },
  {
   "cell_type": "markdown",
   "id": "d907d3b2",
   "metadata": {},
   "source": [
    "## `*` in Call: Unpacking Positional Arguments\n",
    "- Uses `*sequence` to expand a list or tuple into positional arguments\n",
    "- Sequence length must match the function’s positional parameters\n",
    "- Useful for dynamic argument lists built at runtime"
   ]
  },
  {
   "cell_type": "code",
   "execution_count": null,
   "id": "b36bc314",
   "metadata": {},
   "outputs": [],
   "source": []
  },
  {
   "cell_type": "markdown",
   "id": "2ab387b3",
   "metadata": {},
   "source": [
    "## `**` in Call: Unpacking Keyword Arguments\n",
    "- Uses `**dict` to expand key-value pairs into keyword arguments\n",
    "- Dictionary keys must match the function’s parameter names\n",
    "- Common in configuration-driven function calls"
   ]
  },
  {
   "cell_type": "code",
   "execution_count": null,
   "id": "6bc1c7f2",
   "metadata": {},
   "outputs": [],
   "source": []
  }
 ],
 "metadata": {
  "kernelspec": {
   "display_name": "Python 3 (ipykernel)",
   "language": "python",
   "name": "python3"
  },
  "language_info": {
   "codemirror_mode": {
    "name": "ipython",
    "version": 3
   },
   "file_extension": ".py",
   "mimetype": "text/x-python",
   "name": "python",
   "nbconvert_exporter": "python",
   "pygments_lexer": "ipython3",
   "version": "3.12.9"
  }
 },
 "nbformat": 4,
 "nbformat_minor": 5
}
