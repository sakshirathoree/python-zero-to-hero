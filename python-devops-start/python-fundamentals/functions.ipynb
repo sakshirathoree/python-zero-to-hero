{
 "cells": [
  {
   "cell_type": "markdown",
   "id": "680f778a",
   "metadata": {},
   "source": [
    "# Python Functions for DevOps\n",
    "\n",
    "Functions package reusable code into named blocks, improving modularity, readability, and testability. They prevent duplication (DRY) and make scripts easier to maintain."
   ]
  },
  {
   "cell_type": "markdown",
   "id": "40a5ebe5",
   "metadata": {},
   "source": [
    "## Defining a Function (`def`)\n",
    "\n",
    "Use `def name(params):` followed by an indented block. An optional `\"\"\"docstring\"\"\"` explains purpose, parameters, and return value."
   ]
  },
  {
   "cell_type": "code",
   "execution_count": null,
   "id": "48eb5604",
   "metadata": {},
   "outputs": [],
   "source": []
  },
  {
   "cell_type": "markdown",
   "id": "e334507b",
   "metadata": {},
   "source": [
    "## Calling a Function\n",
    "\n",
    "Invoke via `name(args)`. Control jumps into the function body and (optionally) returns a value back."
   ]
  },
  {
   "cell_type": "code",
   "execution_count": null,
   "id": "5af445cb",
   "metadata": {},
   "outputs": [],
   "source": []
  },
  {
   "cell_type": "markdown",
   "id": "6c79dc44",
   "metadata": {},
   "source": [
    "## Parameters vs Arguments\n",
    "\n",
    "**Summary:** Parameters are named in the `def` signature; arguments are the actual values passed when calling."
   ]
  },
  {
   "cell_type": "code",
   "execution_count": null,
   "id": "66a62166",
   "metadata": {},
   "outputs": [],
   "source": []
  },
  {
   "cell_type": "markdown",
   "id": "058a5f6f",
   "metadata": {},
   "source": [
    "## Positional vs Keyword Arguments\n",
    "\n",
    "Positional args match by order; keyword args match by name and can be out of order. Positional arguments must come first."
   ]
  },
  {
   "cell_type": "code",
   "execution_count": null,
   "id": "ebcf2032",
   "metadata": {},
   "outputs": [],
   "source": []
  },
  {
   "cell_type": "markdown",
   "id": "2713f3d3",
   "metadata": {},
   "source": [
    "## Default Parameter Values\n",
    "\n",
    "It's possible to give parameters default values in the signature (`param=default`), making them optional."
   ]
  },
  {
   "cell_type": "code",
   "execution_count": null,
   "id": "6adc06d4",
   "metadata": {},
   "outputs": [],
   "source": []
  },
  {
   "cell_type": "markdown",
   "id": "7b57ea7d",
   "metadata": {},
   "source": [
    "## Docstrings – Documenting Functions\n",
    "\n",
    "The first string in a function is its docstring, explaining purpose, `Args:` and `Returns:`. Used by `help()` and IDEs. Observing the following conventions is considered good practice:\n",
    "1. One-line summary\n",
    "2. Blank line\n",
    "3. Detailed description (optional)\n",
    "4. `Args:` section for parameters\n",
    "5. `Returns:` section for return values\n",
    "6. `Raises:` section for exceptions"
   ]
  },
  {
   "cell_type": "code",
   "execution_count": null,
   "id": "840e3b40",
   "metadata": {},
   "outputs": [],
   "source": []
  },
  {
   "cell_type": "markdown",
   "id": "2fabedfb",
   "metadata": {},
   "source": [
    "## Hands‑on Exercises\n",
    "\n",
    "Complete the following three exercises to practice defining and using functions."
   ]
  },
  {
   "cell_type": "markdown",
   "id": "8a59ed0a",
   "metadata": {},
   "source": [
    "### Exercise 1: Greet Multiple Users\n",
    "\n",
    "Define a function `greet_users(names)` that takes a list of user names and prints a personalized greeting for each.\n",
    "\n",
    "Example input: `['Alice', 'Bob', 'Charlie']`\n",
    "\n",
    "Example output:\n",
    "```\n",
    "\"Hello, Alice!\"\n",
    "\"Hello, Bob!\"\n",
    "\"Hello, Charlie!\"\n",
    "```"
   ]
  },
  {
   "cell_type": "code",
   "execution_count": null,
   "id": "3aa3d109",
   "metadata": {},
   "outputs": [],
   "source": []
  },
  {
   "cell_type": "markdown",
   "id": "924018f8",
   "metadata": {},
   "source": [
    "### Exercise 2: Sum of Even Numbers\n",
    "\n",
    "Define a function `sum_even(numbers)` that takes a list of integers and returns the sum of all even numbers.\n",
    "\n",
    "Test with `[1, 2, 3, 4, 5, 6]` (should return `12`)."
   ]
  },
  {
   "cell_type": "code",
   "execution_count": null,
   "id": "7e90edc0",
   "metadata": {},
   "outputs": [],
   "source": []
  },
  {
   "cell_type": "markdown",
   "id": "4217dbda",
   "metadata": {},
   "source": [
    "### Exercise 3: Fibonacci Sequence Generator\n",
    "\n",
    "Define a function `fibonacci(n)` that returns a list of the first `n` Fibonacci numbers.\n",
    "\n",
    "Example: `fibonacci(5)` should return `[0, 1, 1, 2, 3]`."
   ]
  },
  {
   "cell_type": "code",
   "execution_count": null,
   "id": "1b9035f3",
   "metadata": {},
   "outputs": [],
   "source": []
  },
  {
   "cell_type": "code",
   "execution_count": null,
   "id": "b2c7b208-ffe6-4197-8fc6-8a57d0a89415",
   "metadata": {},
   "outputs": [],
   "source": []
  }
 ],
 "metadata": {
  "kernelspec": {
   "display_name": "Python 3 (ipykernel)",
   "language": "python",
   "name": "python3"
  },
  "language_info": {
   "codemirror_mode": {
    "name": "ipython",
    "version": 3
   },
   "file_extension": ".py",
   "mimetype": "text/x-python",
   "name": "python",
   "nbconvert_exporter": "python",
   "pygments_lexer": "ipython3",
   "version": "3.12.9"
  }
 },
 "nbformat": 4,
 "nbformat_minor": 5
}
