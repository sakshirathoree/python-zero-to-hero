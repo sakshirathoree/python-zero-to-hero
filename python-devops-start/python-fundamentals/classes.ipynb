{
 "cells": [
  {
   "cell_type": "markdown",
   "id": "7d950d2f",
   "metadata": {},
   "source": [
    "# Classes and Objects\n",
    "- **Beyond Built-ins:** Python lets you define your own data types using `class`.\n",
    "- **Class:** A blueprint or template for creating objects. Defines attributes (data) and methods (behavior). Convention: `PascalCase` names (`MyClass`).\n",
    "- **Object (Instance):** A specific item created from a class blueprint. Each object has its own set of attribute values but shares the methods defined by the class. `obj1 = MyClass()`, `obj2 = MyClass()`. `obj1` and `obj2` are distinct objects."
   ]
  },
  {
   "cell_type": "markdown",
   "id": "6f0cd9da",
   "metadata": {},
   "source": [
    "## Defining a Class & `__init__` (The Constructor)\n",
    "- **`__init__(self, ...)`:** Special method for initialization. `self` is always the first parameter and represents the instance itself. Other parameters receive arguments passed during object creation.\n",
    "- **Instance Attributes (`self.x = ...`):** Data attached to *this specific object*. Created inside methods (usually `__init__`) using `self.attribute_name = value`."
   ]
  },
  {
   "cell_type": "code",
   "execution_count": null,
   "id": "9f9dd0df-f550-4e62-a2b1-8120515ba266",
   "metadata": {},
   "outputs": [],
   "source": []
  },
  {
   "cell_type": "markdown",
   "id": "22189fc2",
   "metadata": {},
   "source": [
    "## Creating Instances (Objects)\n",
    "- **Mechanism:** Call the class name as if it were a function, passing any arguments required by `__init__` (after `self`).\n",
    "- Python automatically creates the object and passes it as `self` to `__init__`."
   ]
  },
  {
   "cell_type": "code",
   "execution_count": null,
   "id": "e340ef79-e5b8-403b-a176-19f0b7781a31",
   "metadata": {},
   "outputs": [],
   "source": []
  },
  {
   "cell_type": "markdown",
   "id": "496f707c",
   "metadata": {},
   "source": [
    "## Instance Methods: Object Behavior\n",
    "- **Definition:** Functions defined *inside* a class definition.\n",
    "- **First Parameter:** Always `self` (by strong convention), allowing the method to access and modify the instance's attributes (`self.attribute_name`).\n",
    "- **Calling:** Use dot notation on an instance: `instance.method_name(arguments)`. Python automatically passes the instance (`instance`) as the `self` argument."
   ]
  },
  {
   "cell_type": "code",
   "execution_count": null,
   "id": "8e6fae9d-5b6d-422a-903d-90526a32c5db",
   "metadata": {},
   "outputs": [],
   "source": []
  },
  {
   "cell_type": "markdown",
   "id": "ecf706a6",
   "metadata": {},
   "source": [
    "## Basic Inheritance: Reusing and Extending\n",
    "- **Concept:** Create a new class (Child/Subclass) that inherits properties (attributes and methods) from an existing class (Parent/Superclass). Promotes code reuse (DRY).\n",
    "- **Syntax:** `class ChildClassName(ParentClassName):`\n",
    "- **Inherited Members:** The Child automatically gets all methods and attributes defined in the Parent.\n",
    "- **Specializing:** The Child can:\n",
    "  - Add *new* attributes and methods.\n",
    "  - *Override* parent methods by defining a method with the same name.\n",
    "- **`super()`:** Inside the Child's methods, use `super().method_name(...)` to explicitly call the Parent's version of a method (very common in `__init__`)."
   ]
  },
  {
   "cell_type": "code",
   "execution_count": null,
   "id": "8949c112",
   "metadata": {},
   "outputs": [],
   "source": []
  }
 ],
 "metadata": {
  "kernelspec": {
   "display_name": "Python 3 (ipykernel)",
   "language": "python",
   "name": "python3"
  },
  "language_info": {
   "codemirror_mode": {
    "name": "ipython",
    "version": 3
   },
   "file_extension": ".py",
   "mimetype": "text/x-python",
   "name": "python",
   "nbconvert_exporter": "python",
   "pygments_lexer": "ipython3",
   "version": "3.12.9"
  }
 },
 "nbformat": 4,
 "nbformat_minor": 5
}
