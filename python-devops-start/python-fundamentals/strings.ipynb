{
 "cells": [
  {
   "cell_type": "markdown",
   "id": "369af8d8-d881-4b2a-8ab8-7d0256d7d358",
   "metadata": {},
   "source": [
    "# Strings"
   ]
  },
  {
   "cell_type": "markdown",
   "id": "7845c5c4",
   "metadata": {},
   "source": [
    "## String Manipulation\n",
    "\n",
    "- Strings are ordered, immutable sequences of characters.\n",
    "- Use single or double quotes consistently; triple quotes for multi-line strings or docstrings."
   ]
  },
  {
   "cell_type": "code",
   "execution_count": null,
   "id": "5071b74a",
   "metadata": {},
   "outputs": [],
   "source": []
  },
  {
   "cell_type": "markdown",
   "id": "34371c3e",
   "metadata": {},
   "source": [
    "## Format Output using f-string\n",
    "\n",
    "**Tip:** f-strings allow inline expression evaluation and formatting, making string construction concise and readable."
   ]
  },
  {
   "cell_type": "code",
   "execution_count": null,
   "id": "b1b1007b",
   "metadata": {},
   "outputs": [],
   "source": []
  },
  {
   "cell_type": "markdown",
   "id": "53d76649",
   "metadata": {},
   "source": [
    "### Common Operations and Essential String Methods\n",
    "\n",
    "- Concatenation (`+`): Joins strings.\n",
    "- Length (`len()`): Gets the number of characters.\n",
    "- Indexing (`[]`): Access a character by position (0-based).\n",
    "- Slicing (`[:]`): Extract substrings.\n",
    "- `.lower() / .upper()`\n",
    "- `.strip() / .lstrip() / .rstrip()`\n",
    "- `.startswith() / .endswith()`\n",
    "- `.split() / .join()`\n",
    "- `.replace()`"
   ]
  },
  {
   "cell_type": "code",
   "execution_count": null,
   "id": "b30131e9",
   "metadata": {
    "scrolled": true
   },
   "outputs": [],
   "source": []
  },
  {
   "cell_type": "markdown",
   "id": "bd325a2b-71d3-4434-96c1-4d5c2a426877",
   "metadata": {},
   "source": [
    "### String Immutability\n",
    "\n",
    "Strings are immutable, meaning you cannot change a string in place; operations that seem to modify a string actually create and return a new string object."
   ]
  },
  {
   "cell_type": "code",
   "execution_count": null,
   "id": "23ea841e",
   "metadata": {},
   "outputs": [],
   "source": []
  },
  {
   "cell_type": "markdown",
   "id": "c113ccfa-1e07-447e-9312-dda2678bd984",
   "metadata": {},
   "source": [
    "## Exercise: Calculate Disk Usage Percentage\n",
    "\n",
    "In this exercise you’ll combine basic arithmetic with f‑string formatting to report disk usage for a server.\n",
    "\n",
    "Objectives:\n",
    "- Given the variables below, compute the disk usage percentage.\n",
    "- Print the raw percentage value.\n",
    "- Build a human‑readable summary string:\n",
    "  - Convert the server name to uppercase.\n",
    "  - Include the number of CPU cores and amount of RAM.\n",
    "  - Show the disk usage percentage rounded to one decimal place.\n",
    "- Print a summary containing the server name in uppercase, the number of CPU cores, the memory, and the disk usage).\n",
    "- Finally, use the `.2%` format specifier in an f‑string to display the usage with two decimal places and a percent sign.\n"
   ]
  },
  {
   "cell_type": "code",
   "execution_count": null,
   "id": "146c476b",
   "metadata": {},
   "outputs": [],
   "source": []
  },
  {
   "cell_type": "code",
   "execution_count": null,
   "id": "8a1be08a-a36e-46ef-8398-291103e90086",
   "metadata": {},
   "outputs": [],
   "source": []
  }
 ],
 "metadata": {
  "kernelspec": {
   "display_name": "Python 3 (ipykernel)",
   "language": "python",
   "name": "python3"
  },
  "language_info": {
   "codemirror_mode": {
    "name": "ipython",
    "version": 3
   },
   "file_extension": ".py",
   "mimetype": "text/x-python",
   "name": "python",
   "nbconvert_exporter": "python",
   "pygments_lexer": "ipython3",
   "version": "3.12.9"
  }
 },
 "nbformat": 4,
 "nbformat_minor": 5
}
