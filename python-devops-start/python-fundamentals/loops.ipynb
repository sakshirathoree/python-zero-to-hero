{
 "cells": [
  {
   "cell_type": "markdown",
   "id": "1ff9434f",
   "metadata": {},
   "source": [
    "# For & While Loops\n",
    "\n",
    "Python provides two main ways to repeat actions: `for` loops (for iterating over known sequences) and `while` loops (for repeating as long as a condition is true). These are essential for automating repetitive tasks in DevOps, such as processing lists of servers, retrying operations, or polling for status changes."
   ]
  },
  {
   "cell_type": "markdown",
   "id": "47cc9276",
   "metadata": {},
   "source": [
    "## Automating Repetition: Loops\n",
    "\n",
    "- `for` loop: Iterates through each item in a known sequence (list, tuple, string, dictionary items, range, file lines). Best when you know the items to process.\n",
    "- `while` loop: Repeats as long as a condition remains `True`. Best when the number of repetitions isn't known beforehand, but a stopping condition is."
   ]
  },
  {
   "cell_type": "markdown",
   "id": "06eb567a",
   "metadata": {},
   "source": [
    "## `for` Loops: Processing Each Item\n",
    "\n",
    "`for` loops are used to process each item in a sequence. The loop variable takes on the value of each item, one at a time, and the indented block runs for each item."
   ]
  },
  {
   "cell_type": "code",
   "execution_count": null,
   "id": "fe2defb2",
   "metadata": {},
   "outputs": [],
   "source": []
  },
  {
   "cell_type": "markdown",
   "id": "dfa2bc68",
   "metadata": {},
   "source": [
    "## `while` Loops: Repeating While True\n",
    "\n",
    "`while` loops repeat a block of code as long as a condition remains `True`. This is useful when you don't know in advance how many times you'll need to repeat the action."
   ]
  },
  {
   "cell_type": "code",
   "execution_count": null,
   "id": "4e2102bf",
   "metadata": {},
   "outputs": [],
   "source": []
  },
  {
   "cell_type": "markdown",
   "id": "c53bec94",
   "metadata": {},
   "source": [
    "**Important:** The code inside the `while` loop must eventually make the condition `False` (e.g., by incrementing a counter or changing a flag), or you'll create an infinite loop."
   ]
  },
  {
   "cell_type": "markdown",
   "id": "725814ed",
   "metadata": {},
   "source": [
    "## Controlling Loop Flow: `break` and `continue`\n",
    "\n",
    "- **`break`:** Immediately exits the innermost loop. Useful when you've found what you need or hit an error.\n",
    "- **`continue`:** Skips the rest of the current iteration and moves to the next one. Useful for skipping items that don't meet criteria."
   ]
  },
  {
   "cell_type": "code",
   "execution_count": null,
   "id": "73b9db6f",
   "metadata": {},
   "outputs": [],
   "source": []
  },
  {
   "cell_type": "code",
   "execution_count": null,
   "id": "34a0c102-0fd5-4b04-bbe0-5825cf2831a5",
   "metadata": {},
   "outputs": [],
   "source": []
  }
 ],
 "metadata": {
  "kernelspec": {
   "display_name": "Python 3 (ipykernel)",
   "language": "python",
   "name": "python3"
  },
  "language_info": {
   "codemirror_mode": {
    "name": "ipython",
    "version": 3
   },
   "file_extension": ".py",
   "mimetype": "text/x-python",
   "name": "python",
   "nbconvert_exporter": "python",
   "pygments_lexer": "ipython3",
   "version": "3.12.9"
  }
 },
 "nbformat": 4,
 "nbformat_minor": 5
}
