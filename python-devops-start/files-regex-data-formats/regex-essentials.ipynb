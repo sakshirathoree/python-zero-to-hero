{
 "cells": [
  {
   "cell_type": "markdown",
   "id": "56238708-d927-46f5-8545-d6e11a21d6ac",
   "metadata": {},
   "source": [
    "# Regex Essentials: Overview\n",
    "- Regular expressions (regex) are a language for defining text search patterns.  \n",
    "- Python’s `re` module provides functions like `search` (find anywhere) and `match` (anchored at start).  \n",
    "- Patterns include literals, metacharacters (`. ^ $ * + ? [] \\`), character classes (`\\d`, `\\w`, `\\s`), and quantifiers (`*`, `+`, `?`, `{n,m}`).  \n",
    "- Greedy quantifiers (`*`, `+`) match as much as possible; non-greedy (`*?`, `+?`) as little as possible.\n",
    "\n",
    "## Introduction to `re.search()` vs `re.match()`\n",
    "- `re.search(pattern, text)` scans the entire string for the first occurrence.  \n",
    "- `re.match(pattern, text)` checks only at the beginning of the string.\n",
    "- `re.findall()` and `re.finditer()` let you retrieve every occurrence of a pattern.   \n",
    "- Always use raw strings (`r\"...\"`) to define regex patterns, avoiding Python string escapes interfering with regex."
   ]
  },
  {
   "cell_type": "code",
   "execution_count": null,
   "id": "47e78505-6a4b-47c0-8a13-db36b5615ea3",
   "metadata": {},
   "outputs": [],
   "source": []
  },
  {
   "cell_type": "markdown",
   "id": "e7bb393f-9f72-482f-ac6b-c591d1d50fa1",
   "metadata": {},
   "source": [
    "## Common Metacharacters\n",
    "- `.` matches any character (except newline).  \n",
    "- `^` anchors at start of string.  \n",
    "- `$` anchors at end of string.  \n",
    "- `[]` defines a set or range of characters, e.g. `[A-Z]`.  \n",
    "- `\\` escapes metacharacters or introduces special sequences."
   ]
  },
  {
   "cell_type": "code",
   "execution_count": null,
   "id": "a773d052-6124-4cf5-a44f-370a06797e19",
   "metadata": {},
   "outputs": [],
   "source": []
  },
  {
   "cell_type": "markdown",
   "id": "7becb90a-3e6d-4117-ae16-f8746c744e44",
   "metadata": {},
   "source": [
    "## Special Sequences\n",
    "- `\\d` digit (0–9), `\\D` non-digit.  \n",
    "- `\\w` word character (letters, digits, underscore), `\\W` non-word.  \n",
    "- `\\s` whitespace, `\\S` non-whitespace.  \n",
    "- `\\b` word boundary (zero-width match)."
   ]
  },
  {
   "cell_type": "code",
   "execution_count": null,
   "id": "dca0853e-c7fc-49c0-b210-b3faa09b7c3b",
   "metadata": {},
   "outputs": [],
   "source": []
  },
  {
   "cell_type": "markdown",
   "id": "9417217d-fe02-43ab-a824-faba312e69db",
   "metadata": {},
   "source": [
    "## Quantifier Cheat-Sheet\n",
    "\n",
    "| Quantifier | Meaning                                 | Greedy? | Non-greedy form  | Meaning                                  |\n",
    "|------------|-----------------------------------------|---------|------------------|------------------------------------------|\n",
    "| `?`        | 0 or 1 of the preceding token           | Yes     | `??`             | as few as possible (0 or 1)              |\n",
    "| `*`        | 0 or more of the preceding token        | Yes     | `*?`             | as few as possible (including zero)      |\n",
    "| `+`        | 1 or more of the preceding token        | Yes     | `+?`             | as few as possible (at least one)        |\n",
    "| `{n}`      | exactly n of the preceding token        | -       | -                | -                                        |\n",
    "| `{n,}`     | n or more of the preceding token        | Yes     | `{n,}?`          | n or more, but as few as possible        |\n",
    "| `{n,m}`    | between n and m of the preceding token  | Yes     | `{n,m}?`         | between n and m, but as few as possible  |"
   ]
  },
  {
   "cell_type": "code",
   "execution_count": null,
   "id": "e440f11c-bb93-485f-b05c-896dbc25fc85",
   "metadata": {},
   "outputs": [],
   "source": []
  },
  {
   "cell_type": "markdown",
   "id": "5df4f188-3b91-44b9-892a-a6230a9ad22f",
   "metadata": {},
   "source": [
    "## Quantifiers & Greedy vs Non-Greedy\n",
    "- `*` / `+` / `{n,}` are greedy: match as much as possible.  \n",
    "- Append `?` (`*?` / `+?` / `{n,}?`) to make them non-greedy: match as little as possible.  \n",
    "- Greedy quantifiers match the longest possible string that satisfies the pattern. Adding a `?` after them makes them non-greedy (or lazy), matching the shortest possible string."
   ]
  },
  {
   "cell_type": "code",
   "execution_count": null,
   "id": "12b59ac1-b1ef-4d0d-b47e-a2b94f38ecc5",
   "metadata": {},
   "outputs": [],
   "source": []
  }
 ],
 "metadata": {
  "kernelspec": {
   "display_name": "Python 3 (ipykernel)",
   "language": "python",
   "name": "python3"
  },
  "language_info": {
   "codemirror_mode": {
    "name": "ipython",
    "version": 3
   },
   "file_extension": ".py",
   "mimetype": "text/x-python",
   "name": "python",
   "nbconvert_exporter": "python",
   "pygments_lexer": "ipython3",
   "version": "3.12.9"
  }
 },
 "nbformat": 4,
 "nbformat_minor": 5
}
