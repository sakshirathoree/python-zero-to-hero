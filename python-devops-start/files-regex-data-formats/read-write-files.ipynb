{
 "cells": [
  {
   "cell_type": "markdown",
   "id": "56238708-d927-46f5-8545-d6e11a21d6ac",
   "metadata": {},
   "source": [
    "# Read/Write Text Files\n",
    "- Use `open()` to read/write text files with proper modes and encoding.  \n",
    "- Specify `encoding='utf-8'` for portability.  \n",
    "- Leverage `with` to ensure files close automatically.  \n",
    "- Read via iteration, `.read()`, `.readline()`, `.readlines()`.  \n",
    "- Write via `.write()` or `.writelines()`, managing newlines manually."
   ]
  },
  {
   "cell_type": "code",
   "execution_count": null,
   "id": "47e78505-6a4b-47c0-8a13-db36b5615ea3",
   "metadata": {},
   "outputs": [],
   "source": []
  },
  {
   "cell_type": "markdown",
   "id": "e7bb393f-9f72-482f-ac6b-c591d1d50fa1",
   "metadata": {},
   "source": [
    "## File Modes\n",
    "- `'r'`: read text (default), error if file missing.  \n",
    "- `'w'`: write text, create or truncate.  \n",
    "- `'a'`: append text, create if missing.  \n",
    "- `'x'`: exclusive create, error if exists (good to prevent overwrites).  \n",
    "- `'b'`: binary mode variant (e.g. `'rb'`, `'wb'`).  \n",
    "- `'+'`: update mode, allows read/write (e.g. `'r+'`, `'w+'`).\n",
    "\n",
    "### Understanding `+`\n",
    "\n",
    "| Mode | Reads? | Writes? | Creates if missing? | Truncates on open? |\n",
    "|------|--------|---------|---------------------|--------------------|\n",
    "| r    | ✅      | ❌       | ❌                   | ❌                 |\n",
    "| r+   | ✅      | ✅       | ❌                   | ❌                 |\n",
    "| w    | ❌      | ✅       | ✅                   | ✅                 |\n",
    "| w+   | ✅      | ✅       | ✅                   | ✅                 |\n",
    "| a    | ❌      | ✅       | ✅                   | ❌                 |\n",
    "| a+   | ✅      | ✅       | ✅                   | ❌                 |"
   ]
  },
  {
   "cell_type": "code",
   "execution_count": null,
   "id": "a773d052-6124-4cf5-a44f-370a06797e19",
   "metadata": {},
   "outputs": [],
   "source": []
  },
  {
   "cell_type": "markdown",
   "id": "7becb90a-3e6d-4117-ae16-f8746c744e44",
   "metadata": {},
   "source": [
    "## Reading Text Files\n",
    "- **Iteration:** `for line in f:`  \n",
    "  - **When to use:** Ideal for processing large files **line by line** without loading the entire file into memory; lazy and very memory-efficient.\n",
    "\n",
    "- **`f.read(size = -1)`**  \n",
    "  - `size` can be used to specify the maximum number of characters to read; if negative or omitted, reads **the entire file**.  \n",
    "  - **When to use:** When you need to grab a **chunk** of text (e.g. next 1024 chars). Good for bulk reads; but beware of high memory usage if you read the whole file at once.\n",
    "\n",
    "- **`f.readline(size = -1)`**  \n",
    "  - `size` can be used to specify the maximum number of characters to read from the line; if negative or omitted, reads **the full line** up to and including the newline.  \n",
    "  - **When to use:** When you want **one line** at a time but need to guard against overly long lines. Returns an empty string when you reach EOF.\n",
    "\n",
    "- **`f.readlines(hint = -1)`**  \n",
    "  - `hint` can be used to define the approximate total number of bytes to read; if negative or omitted, reads **all lines**.  \n",
    "  - **When to use:** When the file is small or moderate in size and you want a **list** of all lines for easy indexing or list comprehensions. Not recommended for very large files (may exhaust memory)."
   ]
  },
  {
   "cell_type": "code",
   "execution_count": null,
   "id": "dca0853e-c7fc-49c0-b210-b3faa09b7c3b",
   "metadata": {},
   "outputs": [],
   "source": []
  },
  {
   "cell_type": "markdown",
   "id": "5df4f188-3b91-44b9-892a-a6230a9ad22f",
   "metadata": {},
   "source": [
    "## Writing Text Files\n",
    "- **`f.write(s)`**  \n",
    "  - `s` is the string to write; **does not** add a newline automatically.  \n",
    "  - **When to use:** When writing **single strings** or building content piece by piece. Returns the number of characters written, so you can verify success.\n",
    "\n",
    "- **`f.writelines(lines: Iterable[str]) -> None`**  \n",
    "  - `lines` can be any iterable of strings; **does not** add newlines for you.\n",
    "  - **When to use:** When you need to write a **batch** of strings at once (for example, a list of CSV rows). It's more efficient than multiple calls to `.write()`, but you must include `\\n` at the end of each string if you want line breaks."
   ]
  },
  {
   "cell_type": "code",
   "execution_count": null,
   "id": "aab0eccc-81ba-4087-af69-7da00f95519c",
   "metadata": {},
   "outputs": [],
   "source": []
  }
 ],
 "metadata": {
  "kernelspec": {
   "display_name": "Python 3 (ipykernel)",
   "language": "python",
   "name": "python3"
  },
  "language_info": {
   "codemirror_mode": {
    "name": "ipython",
    "version": 3
   },
   "file_extension": ".py",
   "mimetype": "text/x-python",
   "name": "python",
   "nbconvert_exporter": "python",
   "pygments_lexer": "ipython3",
   "version": "3.12.9"
  }
 },
 "nbformat": 4,
 "nbformat_minor": 5
}
