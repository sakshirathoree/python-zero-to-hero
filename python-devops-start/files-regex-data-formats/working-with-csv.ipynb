{
 "cells": [
  {
   "cell_type": "markdown",
   "id": "56238708-d927-46f5-8545-d6e11a21d6ac",
   "metadata": {},
   "source": [
    "# Working with CSV files\n",
    "- CSV (Comma Separated Values) is a plain-text tabular format where each line is a row and fields are delimited (commonly by commas).  \n",
    "- Widely used for spreadsheets, database exports, DevOps reports or inventories.  \n",
    "- Python’s built-in `csv` module handles reading, writing, quoting, delimiters, headers, and dialects.  \n",
    "- Always open files with `newline=''` and `encoding='utf-8'` for cross-platform consistency.\n",
    "\n",
    "## CSV Format Basics\n",
    "- Each row represents a record; fields separated by a delimiter (comma by default).  \n",
    "- Optional header row defines column names.  \n",
    "- Fields containing delimiters, quotes, or newlines must be quoted (usually with double quotes).  \n",
    "- Alternative delimiters (tabs, semicolons) and quoting conventions are supported via dialects and parameters.\n",
    "\n",
    "## Reading CSV files with `csv.reader`\n",
    "- Iterates over rows, returning each as a list of strings.  \n",
    "- Use `next(reader)` to skip or extract the header.  \n",
    "- Accepts `delimiter`, `quotechar`, and other formatting parameters.\n"
   ]
  },
  {
   "cell_type": "code",
   "execution_count": null,
   "id": "47e78505-6a4b-47c0-8a13-db36b5615ea3",
   "metadata": {},
   "outputs": [],
   "source": []
  },
  {
   "cell_type": "markdown",
   "id": "e7bb393f-9f72-482f-ac6b-c591d1d50fa1",
   "metadata": {},
   "source": [
    "## Reading with `csv.DictReader`\n",
    "- Reads rows into dictionaries using the header row as keys.  \n",
    "- Access fields by column name instead of index.\n",
    "- Optional `fieldnames` argument overrides header names."
   ]
  },
  {
   "cell_type": "code",
   "execution_count": null,
   "id": "a773d052-6124-4cf5-a44f-370a06797e19",
   "metadata": {},
   "outputs": [],
   "source": []
  },
  {
   "cell_type": "markdown",
   "id": "7becb90a-3e6d-4117-ae16-f8746c744e44",
   "metadata": {},
   "source": [
    "## Writing with `csv.writer`\n",
    "- Write rows from lists using `.writerow()` or `.writerows()`.  \n",
    "- Open file with `newline=''` to avoid blank lines.  \n",
    "- Control delimiter and quoting via parameters."
   ]
  },
  {
   "cell_type": "code",
   "execution_count": null,
   "id": "dca0853e-c7fc-49c0-b210-b3faa09b7c3b",
   "metadata": {},
   "outputs": [],
   "source": []
  },
  {
   "cell_type": "markdown",
   "id": "861b38d3",
   "metadata": {},
   "source": [
    "## Writing with `csv.DictWriter`\n",
    "- Write dictionaries using `fieldnames` to define header and column order.  \n",
    "- Call `.writeheader()` before `.writerows()`.  "
   ]
  },
  {
   "cell_type": "code",
   "execution_count": null,
   "id": "12b59ac1-b1ef-4d0d-b47e-a2b94f38ecc5",
   "metadata": {},
   "outputs": [],
   "source": []
  }
 ],
 "metadata": {
  "kernelspec": {
   "display_name": "Python 3 (ipykernel)",
   "language": "python",
   "name": "python3"
  },
  "language_info": {
   "codemirror_mode": {
    "name": "ipython",
    "version": 3
   },
   "file_extension": ".py",
   "mimetype": "text/x-python",
   "name": "python",
   "nbconvert_exporter": "python",
   "pygments_lexer": "ipython3",
   "version": "3.12.9"
  }
 },
 "nbformat": 4,
 "nbformat_minor": 5
}
