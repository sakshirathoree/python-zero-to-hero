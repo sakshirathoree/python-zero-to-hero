{
 "cells": [
  {
   "cell_type": "markdown",
   "id": "56238708-d927-46f5-8545-d6e11a21d6ac",
   "metadata": {},
   "source": [
    "# Search, Split, and Substitute \n",
    "- `re.findall()` and `re.finditer()` let you retrieve every occurrence of a pattern.  \n",
    "- `re.split()` handles complex delimiters beyond simple string splits.  \n",
    "- `re.sub()` performs powerful search-and-replace operations, including reuse of captured groups.  \n",
    "\n",
    "## Finding All Matches\n",
    "- `re.findall(pattern, string)` returns a list of all non-overlapping matches:  \n",
    "  - No groups → list of matched substrings.  \n",
    "  - With groups → list of tuples of captured substrings.  \n",
    "- `re.finditer(pattern, string)` returns an iterator of match objects, giving access to `.group()`, positions, named groups, etc., and is more memory-efficient for large inputs.  "
   ]
  },
  {
   "cell_type": "code",
   "execution_count": null,
   "id": "47e78505-6a4b-47c0-8a13-db36b5615ea3",
   "metadata": {},
   "outputs": [],
   "source": []
  },
  {
   "cell_type": "markdown",
   "id": "e7bb393f-9f72-482f-ac6b-c591d1d50fa1",
   "metadata": {},
   "source": [
    "# Splitting Strings\n",
    "- Use `re.split(pattern, string)` to break a string on a **regex pattern**, not just a fixed substring.  \n",
    "- Always use a raw string literal so backslashes reach the regex engine.  \n",
    "- **Simple single-character delimiters:** use a character class (never captured), e.g. `r\"\\s*[,;]\\s*\"`.  \n",
    "- **Complex delimiters** (alternation or multi-character): group with non-capturing parentheses, e.g. `r\"\\s*(?:foo|bar|baz)\\s*\"`, so they aren’t included in the result list.  \n",
    "- **Including delimiters:** wrap your delimiter in a capturing group, e.g. `r\"\\s*([,;])\\s*\"`, to have the separators appear in the split output.  \n",
    "- **Summary:**  \n",
    "  - No parentheses or a non-capturing group → delimiters are **removed**.  \n",
    "  - Capturing group → delimiters **appear** in the split list.  "
   ]
  },
  {
   "cell_type": "code",
   "execution_count": null,
   "id": "a773d052-6124-4cf5-a44f-370a06797e19",
   "metadata": {},
   "outputs": [],
   "source": []
  },
  {
   "cell_type": "markdown",
   "id": "7becb90a-3e6d-4117-ae16-f8746c744e44",
   "metadata": {},
   "source": [
    "## Substituting Text\n",
    "- `re.sub(pattern, replacement, string, count=0)` replaces all (or a limited number) of matches.  \n",
    "- `count` controls how many replacements to make (default 0 = all).  \n",
    "- Back-references (`\\1`, `\\g<name>`) let you reorder or reuse captured text in the replacement.  "
   ]
  },
  {
   "cell_type": "code",
   "execution_count": null,
   "id": "12b59ac1-b1ef-4d0d-b47e-a2b94f38ecc5",
   "metadata": {},
   "outputs": [],
   "source": []
  }
 ],
 "metadata": {
  "kernelspec": {
   "display_name": "Python 3 (ipykernel)",
   "language": "python",
   "name": "python3"
  },
  "language_info": {
   "codemirror_mode": {
    "name": "ipython",
    "version": 3
   },
   "file_extension": ".py",
   "mimetype": "text/x-python",
   "name": "python",
   "nbconvert_exporter": "python",
   "pygments_lexer": "ipython3",
   "version": "3.12.9"
  }
 },
 "nbformat": 4,
 "nbformat_minor": 5
}
