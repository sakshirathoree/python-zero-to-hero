{
 "cells": [
  {
   "cell_type": "markdown",
   "id": "56238708-d927-46f5-8545-d6e11a21d6ac",
   "metadata": {},
   "source": [
    "# Working with YAML files\n",
    "- YAML (“YAML Ain’t Markup Language”) focuses on human readability. Indentation replaces braces and brackets, comments are allowed, and quoting is usually optional.\n",
    "- DevOps tooling (Kubernetes, Ansible, GitHub Actions, many app configs) standardizes on YAML for its clarity and brevity.\n",
    "- JSON is excellent for machine-to-machine communication, but its strict syntax (no comments, heavy quoting) can feel verbose to humans maintaining config files.\n",
    "- Python’s standard library lacks YAML support; **PyYAML** is the community-standard package to fill that gap.\n",
    "\n",
    "## YAML Syntax and Features\n",
    "- Structure comes from **spaces for indentation**: tabs are discouraged.  \n",
    "- **Mappings** use `key: value`; **sequences** use a leading hyphen (`-`) plus a space.\n",
    "- Scalars include strings, numbers, booleans (`true / false`, `yes / no`), and `null`.  \n",
    "- Comments begin with `#`.\n",
    "- Multi-line scalars can be literal (`|`) or folded (`>`).  \n",
    "- **Anchors (&) and aliases (*)** avoid repetition by re-using defined blocks.  \n",
    "- YAML is a superset of JSON: most valid JSON documents are also valid YAML."
   ]
  },
  {
   "cell_type": "code",
   "execution_count": 1,
   "id": "47e78505-6a4b-47c0-8a13-db36b5615ea3",
   "metadata": {},
   "outputs": [],
   "source": [
    "import yaml, json\n",
    "\n",
    "snippet = \"\"\"\n",
    "staging:\n",
    "  name: user-api\n",
    "  port: 8080\n",
    "  enabled: true\n",
    "  tags:\n",
    "    - api\n",
    "    - user\n",
    "    - internal\n",
    "  replicas: 2\n",
    "production:\n",
    "  name: user-api\n",
    "  port: 8080\n",
    "  enabled: true\n",
    "  tags:\n",
    "    - api\n",
    "    - user\n",
    "    - internal\n",
    "  replicas: 4\n",
    "\"\"\""
   ]
  },
  {
   "cell_type": "markdown",
   "id": "e7bb393f-9f72-482f-ac6b-c591d1d50fa1",
   "metadata": {},
   "source": [
    "## Deserializing YAML with `yaml.safe_load`\n",
    "- Prefer **`yaml.safe_load`** (or passing `Loader=yaml.SafeLoader`) to prevent arbitrary-code execution; avoid `yaml.load` on untrusted data.\n",
    "- Accepts a string or an open text file handle and returns native Python structures.  \n",
    "- Wrap calls in `try / except yaml.YAMLError` to catch malformed input."
   ]
  },
  {
   "cell_type": "code",
   "execution_count": null,
   "id": "a773d052-6124-4cf5-a44f-370a06797e19",
   "metadata": {},
   "outputs": [],
   "source": []
  },
  {
   "cell_type": "markdown",
   "id": "7becb90a-3e6d-4117-ae16-f8746c744e44",
   "metadata": {},
   "source": [
    "## Serializing Python Objects with `yaml.dump`\n",
    "- Use `yaml.dump(obj, indent=2, default_flow_style=False, sort_keys=False)` for readable block-style output.  \n",
    "- Set `stream` to an open file handle to write directly; leave it `None` to return a string."
   ]
  },
  {
   "cell_type": "code",
   "execution_count": null,
   "id": "dca0853e-c7fc-49c0-b210-b3faa09b7c3b",
   "metadata": {},
   "outputs": [],
   "source": []
  }
 ],
 "metadata": {
  "kernelspec": {
   "display_name": "Python 3 (ipykernel)",
   "language": "python",
   "name": "python3"
  },
  "language_info": {
   "codemirror_mode": {
    "name": "ipython",
    "version": 3
   },
   "file_extension": ".py",
   "mimetype": "text/x-python",
   "name": "python",
   "nbconvert_exporter": "python",
   "pygments_lexer": "ipython3",
   "version": "3.12.9"
  }
 },
 "nbformat": 4,
 "nbformat_minor": 5
}
