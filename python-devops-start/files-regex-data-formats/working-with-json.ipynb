{
 "cells": [
  {
   "cell_type": "markdown",
   "id": "56238708-d927-46f5-8545-d6e11a21d6ac",
   "metadata": {},
   "source": [
    "# Working with JSON files\n",
    "- JSON is the standard format for data exchange in web services and cloud APIs.\n",
    "- Python’s built-in `json` module provides functions to convert between JSON text and Python objects.\n",
    "- Key operations: parsing JSON from strings/files and serializing Python objects to JSON strings/files.\n",
    "\n",
    "## JSON Syntax and Python Mapping\n",
    "- JSON objects (`{}`) map to Python `dict`.\n",
    "- JSON arrays (`[]`) map to Python `list`.\n",
    "- JSON strings map to Python `str`, numbers to `int` or `float`.\n",
    "- `true`/`false` → `True`/`False`; `null` → `None`.\n",
    "- Keys in JSON objects must be double-quoted strings; no trailing commas.\n",
    "\n",
    "## Deserializing JSON\n",
    "- Use `json.loads()` to parse JSON **strings** into Python objects.\n",
    "- Raises `json.JSONDecodeError` on invalid JSON.\n",
    "- Common in DevOps for handling API response bodies."
   ]
  },
  {
   "cell_type": "code",
   "execution_count": null,
   "id": "47e78505-6a4b-47c0-8a13-db36b5615ea3",
   "metadata": {},
   "outputs": [],
   "source": []
  },
  {
   "cell_type": "markdown",
   "id": "e7bb393f-9f72-482f-ac6b-c591d1d50fa1",
   "metadata": {},
   "source": [
    "## Parsing JSON Files\n",
    "- Use `json.load()` to read JSON from an open file object.\n",
    "- Always open files with `encoding='utf-8'` when dealing with JSON.\n",
    "- Wrap file operations in `with` to ensure proper closure."
   ]
  },
  {
   "cell_type": "code",
   "execution_count": null,
   "id": "a773d052-6124-4cf5-a44f-370a06797e19",
   "metadata": {},
   "outputs": [],
   "source": []
  },
  {
   "cell_type": "markdown",
   "id": "7becb90a-3e6d-4117-ae16-f8746c744e44",
   "metadata": {},
   "source": [
    "## Serializing Python objects to JSON Strings\n",
    "- Use `json.dumps()` to convert Python objects to JSON **strings**.\n",
    "- `indent` makes output human-readable; `sort_keys=True` orders keys alphabetically."
   ]
  },
  {
   "cell_type": "code",
   "execution_count": null,
   "id": "dca0853e-c7fc-49c0-b210-b3faa09b7c3b",
   "metadata": {},
   "outputs": [],
   "source": []
  },
  {
   "cell_type": "markdown",
   "id": "5df4f188-3b91-44b9-892a-a6230a9ad22f",
   "metadata": {},
   "source": [
    "## Serializing Python objects to JSON Files\n",
    "- Use `json.dump()` to write Python objects directly to files.\n",
    "- Pass the file handle and optional `indent` for formatting."
   ]
  },
  {
   "cell_type": "code",
   "execution_count": null,
   "id": "aab0eccc-81ba-4087-af69-7da00f95519c",
   "metadata": {},
   "outputs": [],
   "source": []
  }
 ],
 "metadata": {
  "kernelspec": {
   "display_name": "Python 3 (ipykernel)",
   "language": "python",
   "name": "python3"
  },
  "language_info": {
   "codemirror_mode": {
    "name": "ipython",
    "version": 3
   },
   "file_extension": ".py",
   "mimetype": "text/x-python",
   "name": "python",
   "nbconvert_exporter": "python",
   "pygments_lexer": "ipython3",
   "version": "3.12.9"
  }
 },
 "nbformat": 4,
 "nbformat_minor": 5
}
