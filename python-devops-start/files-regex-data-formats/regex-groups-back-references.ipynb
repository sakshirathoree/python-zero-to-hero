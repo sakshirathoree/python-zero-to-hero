{
 "cells": [
  {
   "cell_type": "markdown",
   "id": "56238708-d927-46f5-8545-d6e11a21d6ac",
   "metadata": {},
   "source": [
    "# Capturing Groups and Back-References\n",
    "- Regex lets you check for patterns, but often you need to **extract** pieces of the match (e.g., IP vs port).\n",
    "- Capturing groups, defined with `()`, let you isolate and retrieve substrings from a match.\n",
    "- Named groups improve readability by giving meaningful labels instead of relying on group numbers.\n",
    "- Non-capturing groups `(?:…)` let you apply grouping logic without cluttering captures.\n",
    "- Back-references allow you to match the same text twice (or more) within one pattern.\n",
    "\n",
    "## Capturing Groups\n",
    "- Parentheses `()` both group and **capture** the matched text inside them.\n",
    "- Groups are numbered by their opening `(`, starting at 1; group 0 is the entire match.\n",
    "- Use `match.group(n)` for a single group or `match.groups()` to get all captures as a tuple.\n",
    "- Capturing is essential when you need to feed specific substrings into further processing."
   ]
  },
  {
   "cell_type": "code",
   "execution_count": null,
   "id": "47e78505-6a4b-47c0-8a13-db36b5615ea3",
   "metadata": {},
   "outputs": [],
   "source": []
  },
  {
   "cell_type": "markdown",
   "id": "e7bb393f-9f72-482f-ac6b-c591d1d50fa1",
   "metadata": {},
   "source": [
    "## Named Capturing Groups\n",
    "- Syntax: `(?P<name>pattern)` assigns a label to a capturing group.\n",
    "- Access by name: `match.group('name')` makes code self-documenting.\n",
    "- `match.groupdict()` returns a dict of all named captures.\n",
    "- You can still use numeric indices if needed, but names help avoid off-by-one errors."
   ]
  },
  {
   "cell_type": "code",
   "execution_count": null,
   "id": "a773d052-6124-4cf5-a44f-370a06797e19",
   "metadata": {},
   "outputs": [],
   "source": []
  },
  {
   "cell_type": "markdown",
   "id": "7becb90a-3e6d-4117-ae16-f8746c744e44",
   "metadata": {},
   "source": [
    "## Non-Capturing Groups\n",
    "- Use `(?:pattern)` when you need grouping for quantifiers or alternation **without** capturing.\n",
    "- Keeps your capture numbers focused on what you actually want.\n",
    "- Prevents unwanted `None` entries in `match.groups()` when using optional parts."
   ]
  },
  {
   "cell_type": "code",
   "execution_count": null,
   "id": "dca0853e-c7fc-49c0-b210-b3faa09b7c3b",
   "metadata": {},
   "outputs": [],
   "source": []
  },
  {
   "cell_type": "markdown",
   "id": "5df4f188-3b91-44b9-892a-a6230a9ad22f",
   "metadata": {},
   "source": [
    "## Back-references\n",
    "- Refer back to a previous capture using `\\1`, `\\2`, … or `(?P=name)` for named groups.\n",
    "- Useful for matching repeated words or balanced constructs (e.g., open/close tags).\n",
    "- Can make patterns more complex but powerful for advanced text validation."
   ]
  },
  {
   "cell_type": "code",
   "execution_count": null,
   "id": "aab0eccc-81ba-4087-af69-7da00f95519c",
   "metadata": {},
   "outputs": [],
   "source": []
  }
 ],
 "metadata": {
  "kernelspec": {
   "display_name": "Python 3 (ipykernel)",
   "language": "python",
   "name": "python3"
  },
  "language_info": {
   "codemirror_mode": {
    "name": "ipython",
    "version": 3
   },
   "file_extension": ".py",
   "mimetype": "text/x-python",
   "name": "python",
   "nbconvert_exporter": "python",
   "pygments_lexer": "ipython3",
   "version": "3.12.9"
  }
 },
 "nbformat": 4,
 "nbformat_minor": 5
}
