{
 "cells": [
  {
   "cell_type": "markdown",
   "id": "56238708-d927-46f5-8545-d6e11a21d6ac",
   "metadata": {},
   "source": [
    "# Working with Filesystem Paths in Python\n",
    "- Manipulating paths as plain strings is error-prone and OS-specific.  \n",
    "- `pathlib` provides an object-oriented, cross-platform way to handle paths.  \n",
    "- `Path` objects offer intuitive operators and methods for most filesystem tasks.\n",
    "\n",
    "## Limitations of String Paths and `os.path`\n",
    "- Using `os.path.join`, `os.path.exists`, etc., requires multiple function calls.  \n",
    "- Code readability suffers when paths are manipulated as plain strings.  \n",
    "- OS differences (\"/\" vs \"\\\\\" separators) must be handled explicitly.\n",
    "\n",
    "## Creating and Combining `Path` Objects\n",
    "- Import `Path` from `pathlib`.  \n",
    "- Create `Path` objects for directories and files.  \n",
    "- Use the `/` operator to join path components cleanly.  "
   ]
  },
  {
   "cell_type": "code",
   "execution_count": null,
   "id": "dca0853e-c7fc-49c0-b210-b3faa09b7c3b",
   "metadata": {},
   "outputs": [],
   "source": []
  },
  {
   "cell_type": "markdown",
   "id": "5df4f188-3b91-44b9-892a-a6230a9ad22f",
   "metadata": {},
   "source": [
    "## Inspecting Path Properties\n",
    "- `.exists()`, `.is_file()`, `.is_dir()` check path state.  \n",
    "- `.parent`, `.name`, `.stem`, `.suffix` expose components.  \n",
    "- `.resolve()` returns the absolute, canonical path.  "
   ]
  },
  {
   "cell_type": "code",
   "execution_count": null,
   "id": "aab0eccc-81ba-4087-af69-7da00f95519c",
   "metadata": {},
   "outputs": [],
   "source": []
  },
  {
   "cell_type": "markdown",
   "id": "ba0fbcd7-a2f2-4fa3-9f1e-f025fe5e9b61",
   "metadata": {},
   "source": [
    "## Listing Directory Contents\n",
    "- `.iterdir()` yields immediate children of a directory.  \n",
    "- `.glob(pattern)` finds entries matching a shell-style pattern.  \n",
    "- Use `\"**/*.ext\"` in `glob` for recursive searches.  "
   ]
  },
  {
   "cell_type": "code",
   "execution_count": null,
   "id": "0980e1cd-fe00-4f92-8ec6-766835289a3a",
   "metadata": {},
   "outputs": [],
   "source": []
  },
  {
   "cell_type": "markdown",
   "id": "d25a3145-bff1-4aa5-962f-eedbfbb29700",
   "metadata": {},
   "source": [
    "## Reading and Writing Files with `Path`\n",
    "- `.write_text()` and `.read_text()` handle simple text I/O.  \n",
    "- Use `p.open(mode=\"a\")` for more control (e.g., appending, binary mode).  \n",
    "- Path methods automatically manage file open/close.  "
   ]
  },
  {
   "cell_type": "code",
   "execution_count": null,
   "id": "271f0aa0-26fe-48f6-94f8-aee210bec5bc",
   "metadata": {},
   "outputs": [],
   "source": []
  }
 ],
 "metadata": {
  "kernelspec": {
   "display_name": "Python 3 (ipykernel)",
   "language": "python",
   "name": "python3"
  },
  "language_info": {
   "codemirror_mode": {
    "name": "ipython",
    "version": 3
   },
   "file_extension": ".py",
   "mimetype": "text/x-python",
   "name": "python",
   "nbconvert_exporter": "python",
   "pygments_lexer": "ipython3",
   "version": "3.12.9"
  }
 },
 "nbformat": 4,
 "nbformat_minor": 5
}
