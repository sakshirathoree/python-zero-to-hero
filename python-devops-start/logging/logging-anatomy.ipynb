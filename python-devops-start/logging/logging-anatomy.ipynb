{
 "cells": [
  {
   "cell_type": "markdown",
   "id": "4529be93-ad54-4a84-b0e0-319cd11f4c00",
   "metadata": {},
   "source": [
    "# Python Logging Anatomy\n",
    "- Python’s `logging` module has five core components: **Loggers**, **Log Records**, **Handlers**, **Formatters** and **Filters**.  \n",
    "- **Loggers** are hierarchical objects your code calls to emit messages at various severity levels.  \n",
    "- Each call to a logger creates a **LogRecord** capturing metadata: level, message, timestamp, source, thread/process IDs, exception info, etc.  \n",
    "- **Handlers** attached to loggers dispatch records to destinations (console, files, network).  \n",
    "- **Formatters** define how a `LogRecord` is rendered into the final string emitted by a handler.  "
   ]
  },
  {
   "cell_type": "code",
   "execution_count": null,
   "id": "ff37d05e-1d78-4800-bbbb-0b2a6f338997",
   "metadata": {},
   "outputs": [],
   "source": []
  },
  {
   "cell_type": "markdown",
   "id": "a2a91eb2-627b-4801-9063-b43ac9ee9886",
   "metadata": {},
   "source": [
    "## Log Records\n",
    "- Each logging call (`logger.info()`, `logger.error()`, etc.) creates a **LogRecord** object behind the scenes.  \n",
    "- A `LogRecord` includes attributes such as `name`, `levelno`, `levelname`, `pathname`, `lineno`, `funcName`, `asctime`, `message`, plus any user-supplied `extra` data.  \n",
    "- Handlers and formatters use these attributes to filter and render the log entry."
   ]
  },
  {
   "cell_type": "code",
   "execution_count": null,
   "id": "843fee5b-ed1c-4ac3-b755-089bf19cf6aa",
   "metadata": {},
   "outputs": [],
   "source": []
  },
  {
   "cell_type": "markdown",
   "id": "c87d0213-5d68-4cdc-9023-3f9bacac407c",
   "metadata": {},
   "source": [
    "## Handlers\n",
    "- **Handlers** determine *where* log records are sent (console, file, network, etc.).  \n",
    "- Each handler has its own level: it filters out any record whose level is below its threshold.  \n",
    "- Common handlers include:  \n",
    "  - `StreamHandler` (console),  \n",
    "  - `FileHandler` (single file),  \n",
    "  - `RotatingFileHandler`,  \n",
    "  - `TimedRotatingFileHandler`,  \n",
    "  - `SysLogHandler`,  \n",
    "  - `HTTPHandler`,  \n",
    "  - `NullHandler`.  "
   ]
  },
  {
   "cell_type": "code",
   "execution_count": null,
   "id": "cefda16a-c802-4bfc-adaa-733bdd3792a0",
   "metadata": {},
   "outputs": [],
   "source": []
  },
  {
   "cell_type": "markdown",
   "id": "7f3da4e4-bec7-4f5d-877d-cf7f53caf814",
   "metadata": {},
   "source": [
    "## Formatters\n",
    "- **Formatters** specify the layout of the final log message string.  \n",
    "- You define a format string using `%(attribute)s` or `%(attribute)d` placeholders.  \n",
    "- Common attributes: `asctime`, `levelname`, `name`, `message`, `filename`, `lineno`, `funcName`, `process`, `thread`.  "
   ]
  },
  {
   "cell_type": "code",
   "execution_count": null,
   "id": "d38b58c4-1816-4e13-9e35-b600adde4a44",
   "metadata": {},
   "outputs": [],
   "source": []
  }
 ],
 "metadata": {
  "kernelspec": {
   "display_name": "Python 3 (ipykernel)",
   "language": "python",
   "name": "python3"
  },
  "language_info": {
   "codemirror_mode": {
    "name": "ipython",
    "version": 3
   },
   "file_extension": ".py",
   "mimetype": "text/x-python",
   "name": "python",
   "nbconvert_exporter": "python",
   "pygments_lexer": "ipython3",
   "version": "3.12.9"
  }
 },
 "nbformat": 4,
 "nbformat_minor": 5
}
